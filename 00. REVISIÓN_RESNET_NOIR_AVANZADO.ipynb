{
 "cells": [
  {
   "cell_type": "code",
   "execution_count": 1,
   "id": "robust-advisory",
   "metadata": {},
   "outputs": [],
   "source": [
    "import torch\n",
    "import torch.nn as nn\n",
    "import torch.optim as optim\n",
    "from torch.optim import lr_scheduler\n",
    "import torch.backends.cudnn as cudnn\n",
    "import numpy as np\n",
    "import torchvision\n",
    "from torchvision import datasets, models, transforms\n",
    "import matplotlib.pyplot as plt\n",
    "import time\n",
    "import os\n",
    "import copy\n",
    "from sklearn.metrics import precision_recall_fscore_support, confusion_matrix, accuracy_score, ConfusionMatrixDisplay\n",
    "import pandas as pd\n",
    "from sklearn.utils.class_weight import compute_class_weight\n",
    "from codecarbon import EmissionsTracker\n",
    "import pynvml"
   ]
  },
  {
   "cell_type": "code",
   "execution_count": 2,
   "id": "electrical-stopping",
   "metadata": {},
   "outputs": [],
   "source": [
    "cudnn.benchmark = True\n",
    "plt.ion()  # interactive mode"
   ]
  },
  {
   "cell_type": "markdown",
   "id": "certain-person",
   "metadata": {},
   "source": [
    "### Data augmentation and normalization for training"
   ]
  },
  {
   "cell_type": "code",
   "execution_count": 3,
   "id": "accessible-abuse",
   "metadata": {},
   "outputs": [],
   "source": [
    "input_path = \"../dataset/\""
   ]
  },
  {
   "cell_type": "code",
   "execution_count": 4,
   "id": "marked-designer",
   "metadata": {},
   "outputs": [],
   "source": [
    "# Data augmentation and normalization for training using torchvision transforms\n",
    "data_transforms = {\n",
    "    'train': transforms.Compose([\n",
    "        transforms.RandomHorizontalFlip(),\n",
    "        transforms.RandomRotation(10),\n",
    "        transforms.RandomResizedCrop(224),\n",
    "        transforms.ColorJitter(brightness=0.2, contrast=0.2, saturation=0.2, hue=0.2),\n",
    "        transforms.ToTensor(),\n",
    "        transforms.Normalize([0.485, 0.456, 0.406], [0.229, 0.224, 0.225])\n",
    "    ]),\n",
    "    'validation': transforms.Compose([\n",
    "        transforms.Resize(256),\n",
    "        transforms.CenterCrop(224),\n",
    "        transforms.ToTensor(),\n",
    "        transforms.Normalize([0.485, 0.456, 0.406], [0.229, 0.224, 0.225])\n",
    "    ]),\n",
    "    'test': transforms.Compose([\n",
    "        transforms.Resize(256),\n",
    "        transforms.CenterCrop(224),\n",
    "        transforms.ToTensor(),\n",
    "        transforms.Normalize([0.485, 0.456, 0.406], [0.229, 0.224, 0.225])\n",
    "    ]),\n",
    "}"
   ]
  },
  {
   "cell_type": "code",
   "execution_count": 5,
   "id": "developing-promotion",
   "metadata": {},
   "outputs": [],
   "source": [
    "image_datasets = {\n",
    "    'train': datasets.ImageFolder(os.path.join(input_path, 'train'), data_transforms['train']),\n",
    "    'validation': datasets.ImageFolder(os.path.join(input_path, 'validation'), data_transforms['validation']),\n",
    "    'test': datasets.ImageFolder(os.path.join(input_path, 'test'), data_transforms['test'])\n",
    "}\n",
    "\n",
    "dataloaders = {\n",
    "    'train': torch.utils.data.DataLoader(image_datasets['train'], batch_size=32, shuffle=True, num_workers=4),\n",
    "    'validation': torch.utils.data.DataLoader(image_datasets['validation'], batch_size=32, shuffle=True, num_workers=4),\n",
    "    'test': torch.utils.data.DataLoader(image_datasets['test'], batch_size=32, shuffle=True, num_workers=4)\n",
    "}"
   ]
  },
  {
   "cell_type": "code",
   "execution_count": 6,
   "id": "narrow-audit",
   "metadata": {},
   "outputs": [],
   "source": [
    "dataset_sizes = {x: len(image_datasets[x]) for x in ['train', 'validation', 'test']}\n",
    "class_names = image_datasets['train'].classes\n",
    "device = torch.device('cuda:0' if torch.cuda.is_available() else 'cpu')"
   ]
  },
  {
   "cell_type": "markdown",
   "id": "loving-slave",
   "metadata": {},
   "source": [
    "### Compute class weights\n"
   ]
  },
  {
   "cell_type": "code",
   "execution_count": 8,
   "id": "natural-algebra",
   "metadata": {},
   "outputs": [],
   "source": [
    "labels = np.array([s[1] for s in image_datasets['train'].samples])\n",
    "class_weights = compute_class_weight(class_weight='balanced', classes=np.unique(labels), y=labels)\n",
    "class_weights = torch.tensor(class_weights, dtype=torch.float).to(device)"
   ]
  },
  {
   "cell_type": "code",
   "execution_count": 9,
   "id": "amended-scholarship",
   "metadata": {},
   "outputs": [
    {
     "data": {
      "text/plain": [
       "tensor([0.8391, 2.2476, 0.8502, 0.8424], device='cuda:0')"
      ]
     },
     "execution_count": 9,
     "metadata": {},
     "output_type": "execute_result"
    }
   ],
   "source": [
    "class_weights"
   ]
  },
  {
   "cell_type": "code",
   "execution_count": 10,
   "id": "controversial-gauge",
   "metadata": {},
   "outputs": [
    {
     "data": {
      "text/plain": [
       "['e', 'm', 's', 'sb']"
      ]
     },
     "execution_count": 10,
     "metadata": {},
     "output_type": "execute_result"
    }
   ],
   "source": [
    "class_names"
   ]
  },
  {
   "cell_type": "markdown",
   "id": "thousand-colonial",
   "metadata": {},
   "source": [
    "### Training the model\n",
    "\n",
    "\n"
   ]
  },
  {
   "cell_type": "code",
   "execution_count": 11,
   "id": "exotic-death",
   "metadata": {},
   "outputs": [],
   "source": [
    "# Initialize NVML\n",
    "pynvml.nvmlInit()\n",
    "handle = pynvml.nvmlDeviceGetHandleByIndex(0)"
   ]
  },
  {
   "cell_type": "code",
   "execution_count": 13,
   "id": "certified-lounge",
   "metadata": {},
   "outputs": [],
   "source": [
    "# Definir la ruta de la carpeta \"revision\"\n",
    "output_dir = \"revision/101_20ep\"\n",
    "if not os.path.exists(output_dir):\n",
    "    os.makedirs(output_dir)"
   ]
  },
  {
   "cell_type": "code",
   "execution_count": 14,
   "id": "comparative-lecture",
   "metadata": {},
   "outputs": [
    {
     "data": {
      "text/plain": [
       "'revision/101_20ep'"
      ]
     },
     "execution_count": 14,
     "metadata": {},
     "output_type": "execute_result"
    }
   ],
   "source": [
    "output_dir"
   ]
  },
  {
   "cell_type": "code",
   "execution_count": 15,
   "id": "attached-circulation",
   "metadata": {},
   "outputs": [],
   "source": [
    "def train_model(model, criterion, optimizer, scheduler, num_epochs=25):\n",
    "    since = time.time()\n",
    "    best_model_wts = copy.deepcopy(model.state_dict())\n",
    "    best_acc = 0.0\n",
    "    results = []\n",
    "    all_preds = []\n",
    "    all_labels = []\n",
    "\n",
    "    for epoch in range(num_epochs):\n",
    "        print(f'Epoch {epoch}/{num_epochs - 1}')\n",
    "        print('-' * 10)\n",
    "\n",
    "        # Each epoch has a training and validation phase\n",
    "        for phase in ['train', 'validation']:\n",
    "            if phase == 'train':\n",
    "                model.train()  # Set model to training mode\n",
    "            else:\n",
    "                model.eval()   # Set model to evaluate mode\n",
    "\n",
    "            running_loss = 0.0\n",
    "            running_corrects = 0\n",
    "            phase_preds = []\n",
    "            phase_labels = []\n",
    "            energy_consumed = 0\n",
    "\n",
    "            # Iterate over data.\n",
    "            for inputs, labels in dataloaders[phase]:\n",
    "                inputs = inputs.to(device)\n",
    "                labels = labels.to(device)\n",
    "\n",
    "                # zero the parameter gradients\n",
    "                optimizer.zero_grad()\n",
    "\n",
    "                # Measure energy consumption before forward pass\n",
    "                energy_before = pynvml.nvmlDeviceGetTotalEnergyConsumption(handle)\n",
    "\n",
    "                # forward\n",
    "                with torch.set_grad_enabled(phase == 'train'):\n",
    "                    outputs = model(inputs)\n",
    "                    _, preds = torch.max(outputs, 1)\n",
    "                    loss = criterion(outputs, labels)\n",
    "\n",
    "                    # backward + optimize only if in training phase\n",
    "                    if phase == 'train':\n",
    "                        loss.backward()\n",
    "                        optimizer.step()\n",
    "\n",
    "                # Measure energy consumption after forward pass\n",
    "                energy_after = pynvml.nvmlDeviceGetTotalEnergyConsumption(handle)\n",
    "                energy_consumed += energy_after - energy_before\n",
    "\n",
    "                # statistics\n",
    "                running_loss += loss.item() * inputs.size(0)\n",
    "                running_corrects += torch.sum(preds == labels.data)\n",
    "                phase_labels.extend(labels.cpu().numpy())\n",
    "                phase_preds.extend(preds.cpu().numpy())\n",
    "\n",
    "            if phase == 'train':\n",
    "                scheduler.step()\n",
    "\n",
    "            epoch_loss = running_loss / dataset_sizes[phase]\n",
    "            epoch_acc = running_corrects.double() / dataset_sizes[phase]\n",
    "\n",
    "            # Additional metrics\n",
    "            precision, recall, f1, _ = precision_recall_fscore_support(phase_labels, phase_preds, average='weighted')\n",
    "            cm = confusion_matrix(phase_labels, phase_preds)\n",
    "            acc = accuracy_score(phase_labels, phase_preds)\n",
    "\n",
    "            print(f'{phase} Loss: {epoch_loss:.4f} Acc: {epoch_acc:.4f} Precision: {precision:.4f} Recall: {recall:.4f} F1: {f1:.4f}')\n",
    "            print(f'Confusion Matrix:\\n{cm}')\n",
    "            print(f'Energy consumed: {energy_consumed} mJ')\n",
    "\n",
    "            # Save results\n",
    "            results.append([epoch, phase, epoch_loss, epoch_acc, precision, recall, f1, energy_consumed])\n",
    "\n",
    "            # Save all predictions and labels for the validation phase\n",
    "            if phase == 'validation':\n",
    "                all_preds.extend(phase_preds)\n",
    "                all_labels.extend(phase_labels)\n",
    "\n",
    "            # deep copy the model\n",
    "            if phase == 'validation' and epoch_acc > best_acc:\n",
    "                best_acc = epoch_acc\n",
    "                best_model_wts = copy.deepcopy(model.state_dict())\n",
    "\n",
    "        print()\n",
    "\n",
    "    time_elapsed = time.time() - since\n",
    "    print(f'Training complete in {time_elapsed // 60:.0f}m {time_elapsed % 60:.0f}s')\n",
    "    print(f'Best val Acc: {best_acc:.4f}')\n",
    "\n",
    "    # load best model weights\n",
    "    model.load_state_dict(best_model_wts)\n",
    "    \n",
    "    # Save the best model\n",
    "    best_model_path = os.path.join(output_dir, 'best_model.pth')\n",
    "    torch.save(model.state_dict(), best_model_path)\n",
    "    print(f'Best model weights saved at {best_model_path}')\n",
    "\n",
    "    # Save the entire best model\n",
    "    full_best_model_path = os.path.join(output_dir, 'full_best_model.pth')\n",
    "    torch.save(model, full_best_model_path)\n",
    "    print(f'Full best model saved at {full_best_model_path}')\n",
    "    \n",
    "    # Save results to a DataFrame\n",
    "    results_df = pd.DataFrame(results, columns=['Epoch', 'Phase', 'Loss', 'Accuracy', 'Precision', 'Recall', 'F1 Score', 'Energy Consumed (mJ)'])\n",
    "    results_df.to_csv('training_results.csv', index=False)\n",
    "    print(\"Training results saved to 'training_results.csv'\")\n",
    "\n",
    "    return model, all_labels, all_preds\n"
   ]
  },
  {
   "cell_type": "code",
   "execution_count": 16,
   "id": "charming-manner",
   "metadata": {},
   "outputs": [
    {
     "name": "stderr",
     "output_type": "stream",
     "text": [
      "[codecarbon INFO @ 13:42:05] [setup] RAM Tracking...\n",
      "[codecarbon INFO @ 13:42:05] [setup] GPU Tracking...\n",
      "[codecarbon INFO @ 13:42:05] Tracking Nvidia GPU via pynvml\n",
      "[codecarbon INFO @ 13:42:05] [setup] CPU Tracking...\n",
      "[codecarbon WARNING @ 13:42:05] No CPU tracking mode found. Falling back on CPU constant mode.\n",
      "[codecarbon WARNING @ 13:42:06] We saw that you have a Intel(R) Xeon(R) CPU E5-2686 v4 @ 2.30GHz but we don't know it. Please contact us.\n",
      "[codecarbon INFO @ 13:42:06] CPU Model on constant consumption mode: Intel(R) Xeon(R) CPU E5-2686 v4 @ 2.30GHz\n",
      "[codecarbon INFO @ 13:42:06] >>> Tracker's metadata:\n",
      "[codecarbon INFO @ 13:42:06]   Platform system: Linux-5.4.0-1103-aws-x86_64-with-debian-buster-sid\n",
      "[codecarbon INFO @ 13:42:06]   Python version: 3.6.13\n",
      "[codecarbon INFO @ 13:42:06]   CodeCarbon version: 2.2.6\n",
      "[codecarbon INFO @ 13:42:06]   Available RAM : 59.859 GB\n",
      "[codecarbon INFO @ 13:42:06]   CPU count: 8\n",
      "[codecarbon INFO @ 13:42:06]   CPU model: Intel(R) Xeon(R) CPU E5-2686 v4 @ 2.30GHz\n",
      "[codecarbon INFO @ 13:42:06]   GPU count: 1\n",
      "[codecarbon INFO @ 13:42:06]   GPU model: 1 x Tesla V100-SXM2-16GB\n",
      "[codecarbon WARNING @ 13:42:06] Cloud provider 'aws' do not publish electricity carbon intensity. Using country value instead.\n"
     ]
    }
   ],
   "source": [
    "# Finetuning the convnet\n",
    "model_ft = models.resnet101(pretrained=True)\n",
    "num_ftrs = model_ft.fc.in_features\n",
    "model_ft.fc = nn.Linear(num_ftrs, len(class_names))\n",
    "model_ft = model_ft.to(device)\n",
    "\n",
    "criterion = nn.CrossEntropyLoss(weight=class_weights)\n",
    "optimizer_ft = optim.SGD(model_ft.parameters(), lr=0.001, momentum=0.9, weight_decay=0.01)  # Añadir weight_decay para L2 Regularization\n",
    "exp_lr_scheduler = lr_scheduler.CosineAnnealingLR(optimizer_ft, T_max=10)\n",
    "\n",
    "# Initialize EmissionsTracker\n",
    "tracker = EmissionsTracker()\n",
    "tracker.start()\n",
    "\n"
   ]
  },
  {
   "cell_type": "code",
   "execution_count": null,
   "id": "surrounded-conference",
   "metadata": {},
   "outputs": [],
   "source": []
  },
  {
   "cell_type": "code",
   "execution_count": 17,
   "id": "automotive-oklahoma",
   "metadata": {
    "scrolled": true
   },
   "outputs": [
    {
     "name": "stdout",
     "output_type": "stream",
     "text": [
      "Epoch 0/19\n",
      "----------\n"
     ]
    },
    {
     "name": "stderr",
     "output_type": "stream",
     "text": [
      "[codecarbon INFO @ 13:42:22] Energy consumed for RAM : 0.000094 kWh. RAM Power : 22.447006702423096 W\n",
      "[codecarbon INFO @ 13:42:22] Energy consumed for all GPUs : 0.000937 kWh. Total GPU Power : 224.90800000000002 W\n",
      "[codecarbon INFO @ 13:42:22] Energy consumed for all CPUs : 0.000177 kWh. Total CPU Power : 42.5 W\n",
      "[codecarbon INFO @ 13:42:22] 0.001208 kWh of electricity used since the beginning.\n",
      "[codecarbon INFO @ 13:42:37] Energy consumed for RAM : 0.000187 kWh. RAM Power : 22.447006702423096 W\n",
      "[codecarbon INFO @ 13:42:37] Energy consumed for all GPUs : 0.001336 kWh. Total GPU Power : 95.607 W\n",
      "[codecarbon INFO @ 13:42:37] Energy consumed for all CPUs : 0.000354 kWh. Total CPU Power : 42.5 W\n",
      "[codecarbon INFO @ 13:42:37] 0.001877 kWh of electricity used since the beginning.\n",
      "[codecarbon INFO @ 13:42:52] Energy consumed for RAM : 0.000280 kWh. RAM Power : 22.447006702423096 W\n",
      "[codecarbon INFO @ 13:42:52] Energy consumed for all GPUs : 0.002332 kWh. Total GPU Power : 239.274 W\n",
      "[codecarbon INFO @ 13:42:52] Energy consumed for all CPUs : 0.000531 kWh. Total CPU Power : 42.5 W\n",
      "[codecarbon INFO @ 13:42:52] 0.003144 kWh of electricity used since the beginning.\n",
      "[codecarbon INFO @ 13:43:07] Energy consumed for RAM : 0.000374 kWh. RAM Power : 22.447006702423096 W\n",
      "[codecarbon INFO @ 13:43:07] Energy consumed for all GPUs : 0.003207 kWh. Total GPU Power : 210.207 W\n",
      "[codecarbon INFO @ 13:43:07] Energy consumed for all CPUs : 0.000708 kWh. Total CPU Power : 42.5 W\n",
      "[codecarbon INFO @ 13:43:07] 0.004290 kWh of electricity used since the beginning.\n"
     ]
    },
    {
     "name": "stdout",
     "output_type": "stream",
     "text": [
      "train Loss: 1.1154 Acc: 0.4898 Precision: 0.5066 Recall: 0.4898 F1: 0.4938\n",
      "Confusion Matrix:\n",
      "[[2094  502  653  367]\n",
      " [ 223  714  214  199]\n",
      " [ 699  577 1443  850]\n",
      " [ 455  523  930 1694]]\n",
      "Energy consumed: 14067901 mJ\n"
     ]
    },
    {
     "name": "stderr",
     "output_type": "stream",
     "text": [
      "[codecarbon INFO @ 13:43:22] Energy consumed for RAM : 0.000467 kWh. RAM Power : 22.447006702423096 W\n",
      "[codecarbon INFO @ 13:43:22] Energy consumed for all GPUs : 0.003602 kWh. Total GPU Power : 94.71600000000001 W\n",
      "[codecarbon INFO @ 13:43:22] Energy consumed for all CPUs : 0.000885 kWh. Total CPU Power : 42.5 W\n",
      "[codecarbon INFO @ 13:43:22] 0.004955 kWh of electricity used since the beginning.\n"
     ]
    },
    {
     "name": "stdout",
     "output_type": "stream",
     "text": [
      "validation Loss: 0.8965 Acc: 0.5697 Precision: 0.6576 Recall: 0.5697 F1: 0.5607\n",
      "Confusion Matrix:\n",
      "[[367 303 454  86]\n",
      " [  6 360  19  30]\n",
      " [ 37 185 711 298]\n",
      " [  8 132 183 867]]\n",
      "Energy consumed: 467497 mJ\n",
      "\n",
      "Epoch 1/19\n",
      "----------\n"
     ]
    },
    {
     "name": "stderr",
     "output_type": "stream",
     "text": [
      "[codecarbon INFO @ 13:43:37] Energy consumed for RAM : 0.000561 kWh. RAM Power : 22.447006702423096 W\n",
      "[codecarbon INFO @ 13:43:37] Energy consumed for all GPUs : 0.004670 kWh. Total GPU Power : 256.4630000000001 W\n",
      "[codecarbon INFO @ 13:43:37] Energy consumed for all CPUs : 0.001063 kWh. Total CPU Power : 42.5 W\n",
      "[codecarbon INFO @ 13:43:37] 0.006293 kWh of electricity used since the beginning.\n",
      "[codecarbon INFO @ 13:43:52] Energy consumed for RAM : 0.000654 kWh. RAM Power : 22.447006702423096 W\n",
      "[codecarbon INFO @ 13:43:52] Energy consumed for all GPUs : 0.005725 kWh. Total GPU Power : 253.323 W\n",
      "[codecarbon INFO @ 13:43:52] Energy consumed for all CPUs : 0.001240 kWh. Total CPU Power : 42.5 W\n",
      "[codecarbon INFO @ 13:43:52] 0.007619 kWh of electricity used since the beginning.\n",
      "[codecarbon INFO @ 13:44:07] Energy consumed for RAM : 0.000748 kWh. RAM Power : 22.447006702423096 W\n",
      "[codecarbon INFO @ 13:44:07] Energy consumed for all GPUs : 0.006751 kWh. Total GPU Power : 246.33500000000004 W\n",
      "[codecarbon INFO @ 13:44:07] Energy consumed for all CPUs : 0.001417 kWh. Total CPU Power : 42.5 W\n",
      "[codecarbon INFO @ 13:44:07] 0.008915 kWh of electricity used since the beginning.\n",
      "[codecarbon INFO @ 13:44:22] Energy consumed for RAM : 0.000841 kWh. RAM Power : 22.447006702423096 W\n",
      "[codecarbon INFO @ 13:44:22] Energy consumed for all GPUs : 0.007798 kWh. Total GPU Power : 251.42999999999998 W\n",
      "[codecarbon INFO @ 13:44:22] Energy consumed for all CPUs : 0.001594 kWh. Total CPU Power : 42.5 W\n",
      "[codecarbon INFO @ 13:44:22] 0.010233 kWh of electricity used since the beginning.\n",
      "[codecarbon INFO @ 13:44:37] Energy consumed for RAM : 0.000935 kWh. RAM Power : 22.447006702423096 W\n",
      "[codecarbon INFO @ 13:44:37] Energy consumed for all GPUs : 0.008819 kWh. Total GPU Power : 245.112 W\n",
      "[codecarbon INFO @ 13:44:37] Energy consumed for all CPUs : 0.001771 kWh. Total CPU Power : 42.5 W\n",
      "[codecarbon INFO @ 13:44:37] 0.011524 kWh of electricity used since the beginning.\n"
     ]
    },
    {
     "name": "stdout",
     "output_type": "stream",
     "text": [
      "train Loss: 0.8819 Acc: 0.6219 Precision: 0.6378 Recall: 0.6219 F1: 0.6248\n",
      "Confusion Matrix:\n",
      "[[2512  396  521  187]\n",
      " [ 135  954  124  137]\n",
      " [ 593  483 1913  580]\n",
      " [ 338  359  736 2169]]\n",
      "Energy consumed: 14301127 mJ\n",
      "validation Loss: 0.7325 Acc: 0.6822 Precision: 0.7208 Recall: 0.6822 F1: 0.6869\n",
      "Confusion Matrix:\n",
      "[[939 126 121  24]\n",
      " [ 29 355  19  12]\n",
      " [237 170 754  70]\n",
      " [ 84 149 245 712]]\n",
      "Energy consumed: 576804 mJ\n",
      "\n",
      "Epoch 2/19\n",
      "----------\n"
     ]
    },
    {
     "name": "stderr",
     "output_type": "stream",
     "text": [
      "[codecarbon INFO @ 13:44:52] Energy consumed for RAM : 0.001028 kWh. RAM Power : 22.447006702423096 W\n",
      "[codecarbon INFO @ 13:44:52] Energy consumed for all GPUs : 0.009858 kWh. Total GPU Power : 249.368 W\n",
      "[codecarbon INFO @ 13:44:52] Energy consumed for all CPUs : 0.001948 kWh. Total CPU Power : 42.5 W\n",
      "[codecarbon INFO @ 13:44:52] 0.012834 kWh of electricity used since the beginning.\n",
      "[codecarbon INFO @ 13:45:07] Energy consumed for RAM : 0.001122 kWh. RAM Power : 22.447006702423096 W\n",
      "[codecarbon INFO @ 13:45:07] Energy consumed for all GPUs : 0.010925 kWh. Total GPU Power : 256.414 W\n",
      "[codecarbon INFO @ 13:45:07] Energy consumed for all CPUs : 0.002125 kWh. Total CPU Power : 42.5 W\n",
      "[codecarbon INFO @ 13:45:07] 0.014172 kWh of electricity used since the beginning.\n",
      "[codecarbon INFO @ 13:45:22] Energy consumed for RAM : 0.001215 kWh. RAM Power : 22.447006702423096 W\n",
      "[codecarbon INFO @ 13:45:22] Energy consumed for all GPUs : 0.011896 kWh. Total GPU Power : 232.972 W\n",
      "[codecarbon INFO @ 13:45:22] Energy consumed for all CPUs : 0.002302 kWh. Total CPU Power : 42.5 W\n",
      "[codecarbon INFO @ 13:45:22] 0.015413 kWh of electricity used since the beginning.\n",
      "[codecarbon INFO @ 13:45:37] Energy consumed for RAM : 0.001309 kWh. RAM Power : 22.447006702423096 W\n",
      "[codecarbon INFO @ 13:45:37] Energy consumed for all GPUs : 0.012969 kWh. Total GPU Power : 257.65500000000003 W\n",
      "[codecarbon INFO @ 13:45:37] Energy consumed for all CPUs : 0.002479 kWh. Total CPU Power : 42.5 W\n",
      "[codecarbon INFO @ 13:45:37] 0.016756 kWh of electricity used since the beginning.\n",
      "[codecarbon INFO @ 13:45:52] Energy consumed for RAM : 0.001402 kWh. RAM Power : 22.447006702423096 W\n",
      "[codecarbon INFO @ 13:45:52] Energy consumed for all GPUs : 0.014024 kWh. Total GPU Power : 253.45299999999997 W\n",
      "[codecarbon INFO @ 13:45:52] Energy consumed for all CPUs : 0.002656 kWh. Total CPU Power : 42.5 W\n",
      "[codecarbon INFO @ 13:45:52] 0.018082 kWh of electricity used since the beginning.\n"
     ]
    },
    {
     "name": "stdout",
     "output_type": "stream",
     "text": [
      "train Loss: 0.8088 Acc: 0.6539 Precision: 0.6680 Recall: 0.6539 F1: 0.6561\n",
      "Confusion Matrix:\n",
      "[[2610  354  500  152]\n",
      " [ 114 1003  117  116]\n",
      " [ 626  457 1963  523]\n",
      " [ 284  322  636 2360]]\n",
      "Energy consumed: 14514582 mJ\n",
      "validation Loss: 0.7492 Acc: 0.6935 Precision: 0.7231 Recall: 0.6935 F1: 0.6957\n",
      "Confusion Matrix:\n",
      "[[958 108 142   2]\n",
      " [ 32 338  29  16]\n",
      " [242 131 792  66]\n",
      " [131  79 262 718]]\n",
      "Energy consumed: 571462 mJ\n",
      "\n",
      "Epoch 3/19\n",
      "----------\n"
     ]
    },
    {
     "name": "stderr",
     "output_type": "stream",
     "text": [
      "[codecarbon INFO @ 13:46:07] Energy consumed for RAM : 0.001496 kWh. RAM Power : 22.447006702423096 W\n",
      "[codecarbon INFO @ 13:46:07] Energy consumed for all GPUs : 0.014975 kWh. Total GPU Power : 228.228 W\n",
      "[codecarbon INFO @ 13:46:07] Energy consumed for all CPUs : 0.002833 kWh. Total CPU Power : 42.5 W\n",
      "[codecarbon INFO @ 13:46:07] 0.019304 kWh of electricity used since the beginning.\n",
      "[codecarbon INFO @ 13:46:22] Energy consumed for RAM : 0.001589 kWh. RAM Power : 22.447006702423096 W\n",
      "[codecarbon INFO @ 13:46:22] Energy consumed for all GPUs : 0.016026 kWh. Total GPU Power : 252.33700000000005 W\n",
      "[codecarbon INFO @ 13:46:22] Energy consumed for all CPUs : 0.003010 kWh. Total CPU Power : 42.5 W\n",
      "[codecarbon INFO @ 13:46:22] 0.020625 kWh of electricity used since the beginning.\n",
      "[codecarbon INFO @ 13:46:37] Energy consumed for RAM : 0.001682 kWh. RAM Power : 22.447006702423096 W\n",
      "[codecarbon INFO @ 13:46:37] Energy consumed for all GPUs : 0.016887 kWh. Total GPU Power : 206.88700000000003 W\n",
      "[codecarbon INFO @ 13:46:37] Energy consumed for all CPUs : 0.003187 kWh. Total CPU Power : 42.5 W\n",
      "[codecarbon INFO @ 13:46:37] 0.021757 kWh of electricity used since the beginning.\n",
      "[codecarbon INFO @ 13:46:52] Energy consumed for RAM : 0.001776 kWh. RAM Power : 22.447006702423096 W\n",
      "[codecarbon INFO @ 13:46:52] Energy consumed for all GPUs : 0.017971 kWh. Total GPU Power : 260.19 W\n",
      "[codecarbon INFO @ 13:46:52] Energy consumed for all CPUs : 0.003364 kWh. Total CPU Power : 42.5 W\n",
      "[codecarbon INFO @ 13:46:52] 0.023111 kWh of electricity used since the beginning.\n",
      "[codecarbon INFO @ 13:47:07] Energy consumed for RAM : 0.001869 kWh. RAM Power : 22.447006702423096 W\n",
      "[codecarbon INFO @ 13:47:07] Energy consumed for all GPUs : 0.018829 kWh. Total GPU Power : 206.13400000000001 W\n",
      "[codecarbon INFO @ 13:47:07] Energy consumed for all CPUs : 0.003541 kWh. Total CPU Power : 42.5 W\n",
      "[codecarbon INFO @ 13:47:07] 0.024240 kWh of electricity used since the beginning.\n"
     ]
    },
    {
     "name": "stdout",
     "output_type": "stream",
     "text": [
      "train Loss: 0.7550 Acc: 0.6811 Precision: 0.6954 Recall: 0.6811 F1: 0.6837\n",
      "Confusion Matrix:\n",
      "[[2647  335  487  147]\n",
      " [ 113 1038  111   88]\n",
      " [ 568  419 2134  448]\n",
      " [ 266  293  596 2447]]\n",
      "Energy consumed: 14536351 mJ\n",
      "validation Loss: 0.6604 Acc: 0.7341 Precision: 0.7478 Recall: 0.7341 F1: 0.7370\n",
      "Confusion Matrix:\n",
      "[[943  87 159  21]\n",
      " [ 29 334  24  28]\n",
      " [179 136 812 104]\n",
      " [ 59  62 188 881]]\n",
      "Energy consumed: 560340 mJ\n",
      "\n",
      "Epoch 4/19\n",
      "----------\n"
     ]
    },
    {
     "name": "stderr",
     "output_type": "stream",
     "text": [
      "[codecarbon INFO @ 13:47:22] Energy consumed for RAM : 0.001963 kWh. RAM Power : 22.447006702423096 W\n",
      "[codecarbon INFO @ 13:47:22] Energy consumed for all GPUs : 0.019887 kWh. Total GPU Power : 253.92600000000004 W\n",
      "[codecarbon INFO @ 13:47:22] Energy consumed for all CPUs : 0.003719 kWh. Total CPU Power : 42.5 W\n",
      "[codecarbon INFO @ 13:47:22] 0.025568 kWh of electricity used since the beginning.\n",
      "[codecarbon INFO @ 13:47:37] Energy consumed for RAM : 0.002056 kWh. RAM Power : 22.447006702423096 W\n",
      "[codecarbon INFO @ 13:47:37] Energy consumed for all GPUs : 0.020848 kWh. Total GPU Power : 230.762 W\n",
      "[codecarbon INFO @ 13:47:37] Energy consumed for all CPUs : 0.003896 kWh. Total CPU Power : 42.5 W\n",
      "[codecarbon INFO @ 13:47:37] 0.026800 kWh of electricity used since the beginning.\n",
      "[codecarbon INFO @ 13:47:52] Energy consumed for RAM : 0.002150 kWh. RAM Power : 22.447006702423096 W\n",
      "[codecarbon INFO @ 13:47:52] Energy consumed for all GPUs : 0.021845 kWh. Total GPU Power : 239.436 W\n",
      "[codecarbon INFO @ 13:47:52] Energy consumed for all CPUs : 0.004073 kWh. Total CPU Power : 42.5 W\n",
      "[codecarbon INFO @ 13:47:52] 0.028068 kWh of electricity used since the beginning.\n",
      "[codecarbon INFO @ 13:48:07] Energy consumed for RAM : 0.002243 kWh. RAM Power : 22.447006702423096 W\n",
      "[codecarbon INFO @ 13:48:07] Energy consumed for all GPUs : 0.022914 kWh. Total GPU Power : 256.712 W\n",
      "[codecarbon INFO @ 13:48:07] Energy consumed for all CPUs : 0.004250 kWh. Total CPU Power : 42.5 W\n",
      "[codecarbon INFO @ 13:48:07] 0.029407 kWh of electricity used since the beginning.\n"
     ]
    },
    {
     "name": "stdout",
     "output_type": "stream",
     "text": [
      "train Loss: 0.7223 Acc: 0.6946 Precision: 0.7073 Recall: 0.6946 F1: 0.6967\n",
      "Confusion Matrix:\n",
      "[[2676  309  505  126]\n",
      " [ 114 1075   89   72]\n",
      " [ 574  388 2179  428]\n",
      " [ 224  259  619 2500]]\n",
      "Energy consumed: 14609511 mJ\n"
     ]
    },
    {
     "name": "stderr",
     "output_type": "stream",
     "text": [
      "[codecarbon INFO @ 13:48:22] Energy consumed for RAM : 0.002337 kWh. RAM Power : 22.447006702423096 W\n",
      "[codecarbon INFO @ 13:48:22] Energy consumed for all GPUs : 0.023154 kWh. Total GPU Power : 57.566 W\n",
      "[codecarbon INFO @ 13:48:22] Energy consumed for all CPUs : 0.004427 kWh. Total CPU Power : 42.5 W\n",
      "[codecarbon INFO @ 13:48:22] 0.029918 kWh of electricity used since the beginning.\n"
     ]
    },
    {
     "name": "stdout",
     "output_type": "stream",
     "text": [
      "validation Loss: 0.6732 Acc: 0.7360 Precision: 0.7536 Recall: 0.7360 F1: 0.7303\n",
      "Confusion Matrix:\n",
      "[[1089   62   52    7]\n",
      " [  46  313   23   33]\n",
      " [ 363  104  638  126]\n",
      " [ 107   49   96  938]]\n",
      "Energy consumed: 572405 mJ\n",
      "\n",
      "Epoch 5/19\n",
      "----------\n"
     ]
    },
    {
     "name": "stderr",
     "output_type": "stream",
     "text": [
      "[codecarbon INFO @ 13:48:37] Energy consumed for RAM : 0.002430 kWh. RAM Power : 22.447006702423096 W\n",
      "[codecarbon INFO @ 13:48:37] Energy consumed for all GPUs : 0.024218 kWh. Total GPU Power : 255.47000000000003 W\n",
      "[codecarbon INFO @ 13:48:37] Energy consumed for all CPUs : 0.004604 kWh. Total CPU Power : 42.5 W\n",
      "[codecarbon INFO @ 13:48:37] 0.031252 kWh of electricity used since the beginning.\n",
      "[codecarbon INFO @ 13:48:52] Energy consumed for RAM : 0.002524 kWh. RAM Power : 22.447006702423096 W\n",
      "[codecarbon INFO @ 13:48:52] Energy consumed for all GPUs : 0.025271 kWh. Total GPU Power : 252.809 W\n",
      "[codecarbon INFO @ 13:48:52] Energy consumed for all CPUs : 0.004781 kWh. Total CPU Power : 42.5 W\n",
      "[codecarbon INFO @ 13:48:52] 0.032575 kWh of electricity used since the beginning.\n",
      "[codecarbon INFO @ 13:49:07] Energy consumed for RAM : 0.002617 kWh. RAM Power : 22.447006702423096 W\n",
      "[codecarbon INFO @ 13:49:07] Energy consumed for all GPUs : 0.026314 kWh. Total GPU Power : 250.61700000000005 W\n",
      "[codecarbon INFO @ 13:49:07] Energy consumed for all CPUs : 0.004958 kWh. Total CPU Power : 42.5 W\n",
      "[codecarbon INFO @ 13:49:07] 0.033889 kWh of electricity used since the beginning.\n",
      "[codecarbon INFO @ 13:49:22] Energy consumed for RAM : 0.002711 kWh. RAM Power : 22.447006702423096 W\n",
      "[codecarbon INFO @ 13:49:22] Energy consumed for all GPUs : 0.027312 kWh. Total GPU Power : 239.598 W\n",
      "[codecarbon INFO @ 13:49:22] Energy consumed for all CPUs : 0.005135 kWh. Total CPU Power : 42.5 W\n",
      "[codecarbon INFO @ 13:49:22] 0.035158 kWh of electricity used since the beginning.\n"
     ]
    },
    {
     "name": "stdout",
     "output_type": "stream",
     "text": [
      "train Loss: 0.6893 Acc: 0.7121 Precision: 0.7224 Recall: 0.7121 F1: 0.7134\n",
      "Confusion Matrix:\n",
      "[[2763  277  465  111]\n",
      " [  94 1101   75   80]\n",
      " [ 598  358 2227  386]\n",
      " [ 252  218  580 2552]]\n",
      "Energy consumed: 14612281 mJ\n"
     ]
    },
    {
     "name": "stderr",
     "output_type": "stream",
     "text": [
      "[codecarbon INFO @ 13:49:37] Energy consumed for RAM : 0.002804 kWh. RAM Power : 22.447006702423096 W\n",
      "[codecarbon INFO @ 13:49:37] Energy consumed for all GPUs : 0.027807 kWh. Total GPU Power : 118.763 W\n",
      "[codecarbon INFO @ 13:49:37] Energy consumed for all CPUs : 0.005312 kWh. Total CPU Power : 42.5 W\n",
      "[codecarbon INFO @ 13:49:37] 0.035923 kWh of electricity used since the beginning.\n"
     ]
    },
    {
     "name": "stdout",
     "output_type": "stream",
     "text": [
      "validation Loss: 0.6547 Acc: 0.7444 Precision: 0.7528 Recall: 0.7444 F1: 0.7437\n",
      "Confusion Matrix:\n",
      "[[ 930  109  119   52]\n",
      " [  25  314   24   52]\n",
      " [ 201  107  752  171]\n",
      " [  52   43   79 1016]]\n",
      "Energy consumed: 601526 mJ\n",
      "\n",
      "Epoch 6/19\n",
      "----------\n"
     ]
    },
    {
     "name": "stderr",
     "output_type": "stream",
     "text": [
      "[codecarbon INFO @ 13:49:52] Energy consumed for RAM : 0.002898 kWh. RAM Power : 22.447006702423096 W\n",
      "[codecarbon INFO @ 13:49:52] Energy consumed for all GPUs : 0.028713 kWh. Total GPU Power : 217.648 W\n",
      "[codecarbon INFO @ 13:49:52] Energy consumed for all CPUs : 0.005489 kWh. Total CPU Power : 42.5 W\n",
      "[codecarbon INFO @ 13:49:52] 0.037100 kWh of electricity used since the beginning.\n",
      "[codecarbon INFO @ 13:50:07] Energy consumed for RAM : 0.002991 kWh. RAM Power : 22.447006702423096 W\n",
      "[codecarbon INFO @ 13:50:07] Energy consumed for all GPUs : 0.029651 kWh. Total GPU Power : 225.26200000000003 W\n",
      "[codecarbon INFO @ 13:50:07] Energy consumed for all CPUs : 0.005666 kWh. Total CPU Power : 42.5 W\n",
      "[codecarbon INFO @ 13:50:07] 0.038308 kWh of electricity used since the beginning.\n",
      "[codecarbon INFO @ 13:50:22] Energy consumed for RAM : 0.003084 kWh. RAM Power : 22.447006702423096 W\n",
      "[codecarbon INFO @ 13:50:22] Energy consumed for all GPUs : 0.030728 kWh. Total GPU Power : 258.599 W\n",
      "[codecarbon INFO @ 13:50:22] Energy consumed for all CPUs : 0.005843 kWh. Total CPU Power : 42.5 W\n",
      "[codecarbon INFO @ 13:50:22] 0.039656 kWh of electricity used since the beginning.\n",
      "[codecarbon INFO @ 13:50:37] Energy consumed for RAM : 0.003178 kWh. RAM Power : 22.447006702423096 W\n",
      "[codecarbon INFO @ 13:50:37] Energy consumed for all GPUs : 0.031788 kWh. Total GPU Power : 254.699 W\n",
      "[codecarbon INFO @ 13:50:37] Energy consumed for all CPUs : 0.006020 kWh. Total CPU Power : 42.5 W\n",
      "[codecarbon INFO @ 13:50:37] 0.040987 kWh of electricity used since the beginning.\n"
     ]
    },
    {
     "name": "stdout",
     "output_type": "stream",
     "text": [
      "train Loss: 0.6595 Acc: 0.7239 Precision: 0.7336 Recall: 0.7239 F1: 0.7254\n",
      "Confusion Matrix:\n",
      "[[2764  261  462  129]\n",
      " [  90 1108   85   67]\n",
      " [ 550  343 2312  364]\n",
      " [ 239  205  556 2602]]\n",
      "Energy consumed: 14656143 mJ\n"
     ]
    },
    {
     "name": "stderr",
     "output_type": "stream",
     "text": [
      "[codecarbon INFO @ 13:50:52] Energy consumed for RAM : 0.003271 kWh. RAM Power : 22.447006702423096 W\n",
      "[codecarbon INFO @ 13:50:52] Energy consumed for all GPUs : 0.032747 kWh. Total GPU Power : 230.132 W\n",
      "[codecarbon INFO @ 13:50:52] Energy consumed for all CPUs : 0.006197 kWh. Total CPU Power : 42.5 W\n",
      "[codecarbon INFO @ 13:50:52] 0.042216 kWh of electricity used since the beginning.\n"
     ]
    },
    {
     "name": "stdout",
     "output_type": "stream",
     "text": [
      "validation Loss: 0.6270 Acc: 0.7304 Precision: 0.7514 Recall: 0.7304 F1: 0.7335\n",
      "Confusion Matrix:\n",
      "[[877 149 135  49]\n",
      " [ 15 361  12  27]\n",
      " [173 148 763 147]\n",
      " [ 37  75 124 954]]\n",
      "Energy consumed: 624841 mJ\n",
      "\n",
      "Epoch 7/19\n",
      "----------\n"
     ]
    },
    {
     "name": "stderr",
     "output_type": "stream",
     "text": [
      "[codecarbon INFO @ 13:51:07] Energy consumed for RAM : 0.003365 kWh. RAM Power : 22.447006702423096 W\n",
      "[codecarbon INFO @ 13:51:07] Energy consumed for all GPUs : 0.033592 kWh. Total GPU Power : 202.881 W\n",
      "[codecarbon INFO @ 13:51:07] Energy consumed for all CPUs : 0.006374 kWh. Total CPU Power : 42.5 W\n",
      "[codecarbon INFO @ 13:51:07] 0.043331 kWh of electricity used since the beginning.\n",
      "[codecarbon INFO @ 13:51:22] Energy consumed for RAM : 0.003458 kWh. RAM Power : 22.447006702423096 W\n",
      "[codecarbon INFO @ 13:51:22] Energy consumed for all GPUs : 0.034618 kWh. Total GPU Power : 246.364 W\n",
      "[codecarbon INFO @ 13:51:22] Energy consumed for all CPUs : 0.006551 kWh. Total CPU Power : 42.5 W\n",
      "[codecarbon INFO @ 13:51:22] 0.044628 kWh of electricity used since the beginning.\n",
      "[codecarbon INFO @ 13:51:37] Energy consumed for RAM : 0.003552 kWh. RAM Power : 22.447006702423096 W\n",
      "[codecarbon INFO @ 13:51:37] Energy consumed for all GPUs : 0.035672 kWh. Total GPU Power : 253.15200000000004 W\n",
      "[codecarbon INFO @ 13:51:37] Energy consumed for all CPUs : 0.006728 kWh. Total CPU Power : 42.5 W\n",
      "[codecarbon INFO @ 13:51:37] 0.045952 kWh of electricity used since the beginning.\n",
      "[codecarbon INFO @ 13:51:52] Energy consumed for RAM : 0.003645 kWh. RAM Power : 22.447006702423096 W\n",
      "[codecarbon INFO @ 13:51:52] Energy consumed for all GPUs : 0.036761 kWh. Total GPU Power : 261.488 W\n",
      "[codecarbon INFO @ 13:51:52] Energy consumed for all CPUs : 0.006906 kWh. Total CPU Power : 42.5 W\n",
      "[codecarbon INFO @ 13:51:52] 0.047312 kWh of electricity used since the beginning.\n"
     ]
    },
    {
     "name": "stdout",
     "output_type": "stream",
     "text": [
      "train Loss: 0.6496 Acc: 0.7274 Precision: 0.7376 Recall: 0.7274 F1: 0.7290\n",
      "Confusion Matrix:\n",
      "[[2783  291  416  126]\n",
      " [  78 1105   84   83]\n",
      " [ 561  365 2275  368]\n",
      " [ 211  199  526 2666]]\n",
      "Energy consumed: 14685675 mJ\n"
     ]
    },
    {
     "name": "stderr",
     "output_type": "stream",
     "text": [
      "[codecarbon INFO @ 13:52:07] Energy consumed for RAM : 0.003739 kWh. RAM Power : 22.447006702423096 W\n",
      "[codecarbon INFO @ 13:52:07] Energy consumed for all GPUs : 0.037789 kWh. Total GPU Power : 246.697 W\n",
      "[codecarbon INFO @ 13:52:07] Energy consumed for all CPUs : 0.007083 kWh. Total CPU Power : 42.5 W\n",
      "[codecarbon INFO @ 13:52:07] 0.048610 kWh of electricity used since the beginning.\n"
     ]
    },
    {
     "name": "stdout",
     "output_type": "stream",
     "text": [
      "validation Loss: 0.5889 Acc: 0.7546 Precision: 0.7686 Recall: 0.7546 F1: 0.7566\n",
      "Confusion Matrix:\n",
      "[[926 114 128  42]\n",
      " [ 15 353  19  28]\n",
      " [183 125 800 123]\n",
      " [ 42  65 109 974]]\n",
      "Energy consumed: 570573 mJ\n",
      "\n",
      "Epoch 8/19\n",
      "----------\n"
     ]
    },
    {
     "name": "stderr",
     "output_type": "stream",
     "text": [
      "[codecarbon INFO @ 13:52:22] Energy consumed for RAM : 0.003832 kWh. RAM Power : 22.447006702423096 W\n",
      "[codecarbon INFO @ 13:52:22] Energy consumed for all GPUs : 0.038480 kWh. Total GPU Power : 165.964 W\n",
      "[codecarbon INFO @ 13:52:22] Energy consumed for all CPUs : 0.007260 kWh. Total CPU Power : 42.5 W\n",
      "[codecarbon INFO @ 13:52:22] 0.049572 kWh of electricity used since the beginning.\n",
      "[codecarbon INFO @ 13:52:37] Energy consumed for RAM : 0.003926 kWh. RAM Power : 22.447006702423096 W\n",
      "[codecarbon INFO @ 13:52:37] Energy consumed for all GPUs : 0.039487 kWh. Total GPU Power : 241.80100000000002 W\n",
      "[codecarbon INFO @ 13:52:37] Energy consumed for all CPUs : 0.007437 kWh. Total CPU Power : 42.5 W\n",
      "[codecarbon INFO @ 13:52:37] 0.050849 kWh of electricity used since the beginning.\n",
      "[codecarbon INFO @ 13:52:52] Energy consumed for RAM : 0.004019 kWh. RAM Power : 22.447006702423096 W\n",
      "[codecarbon INFO @ 13:52:52] Energy consumed for all GPUs : 0.039893 kWh. Total GPU Power : 97.58200000000002 W\n",
      "[codecarbon INFO @ 13:52:52] Energy consumed for all CPUs : 0.007614 kWh. Total CPU Power : 42.5 W\n",
      "[codecarbon INFO @ 13:52:52] 0.051526 kWh of electricity used since the beginning.\n",
      "[codecarbon INFO @ 13:53:07] Energy consumed for RAM : 0.004113 kWh. RAM Power : 22.447006702423096 W\n",
      "[codecarbon INFO @ 13:53:07] Energy consumed for all GPUs : 0.040885 kWh. Total GPU Power : 238.017 W\n",
      "[codecarbon INFO @ 13:53:07] Energy consumed for all CPUs : 0.007791 kWh. Total CPU Power : 42.5 W\n",
      "[codecarbon INFO @ 13:53:07] 0.052788 kWh of electricity used since the beginning.\n"
     ]
    },
    {
     "name": "stdout",
     "output_type": "stream",
     "text": [
      "train Loss: 0.6478 Acc: 0.7265 Precision: 0.7381 Recall: 0.7265 F1: 0.7289\n",
      "Confusion Matrix:\n",
      "[[2784  284  450   98]\n",
      " [  85 1075  114   76]\n",
      " [ 536  364 2317  352]\n",
      " [ 202  212  546 2642]]\n",
      "Energy consumed: 14675592 mJ\n"
     ]
    },
    {
     "name": "stderr",
     "output_type": "stream",
     "text": [
      "[codecarbon INFO @ 13:53:22] Energy consumed for RAM : 0.004206 kWh. RAM Power : 22.447006702423096 W\n",
      "[codecarbon INFO @ 13:53:22] Energy consumed for all GPUs : 0.041495 kWh. Total GPU Power : 146.497 W\n",
      "[codecarbon INFO @ 13:53:22] Energy consumed for all CPUs : 0.007968 kWh. Total CPU Power : 42.5 W\n",
      "[codecarbon INFO @ 13:53:22] 0.053669 kWh of electricity used since the beginning.\n"
     ]
    },
    {
     "name": "stdout",
     "output_type": "stream",
     "text": [
      "validation Loss: 0.5850 Acc: 0.7687 Precision: 0.7771 Recall: 0.7687 F1: 0.7701\n",
      "Confusion Matrix:\n",
      "[[973  82 125  30]\n",
      " [ 30 330  22  33]\n",
      " [194 106 831 100]\n",
      " [ 46  56 112 976]]\n",
      "Energy consumed: 591291 mJ\n",
      "\n",
      "Epoch 9/19\n",
      "----------\n"
     ]
    },
    {
     "name": "stderr",
     "output_type": "stream",
     "text": [
      "[codecarbon INFO @ 13:53:37] Energy consumed for RAM : 0.004299 kWh. RAM Power : 22.447006702423096 W\n",
      "[codecarbon INFO @ 13:53:37] Energy consumed for all GPUs : 0.042569 kWh. Total GPU Power : 258.005 W\n",
      "[codecarbon INFO @ 13:53:37] Energy consumed for all CPUs : 0.008145 kWh. Total CPU Power : 42.5 W\n",
      "[codecarbon INFO @ 13:53:37] 0.055014 kWh of electricity used since the beginning.\n",
      "[codecarbon INFO @ 13:53:52] Energy consumed for RAM : 0.004393 kWh. RAM Power : 22.447006702423096 W\n",
      "[codecarbon INFO @ 13:53:52] Energy consumed for all GPUs : 0.043602 kWh. Total GPU Power : 247.94900000000004 W\n",
      "[codecarbon INFO @ 13:53:52] Energy consumed for all CPUs : 0.008322 kWh. Total CPU Power : 42.5 W\n",
      "[codecarbon INFO @ 13:53:52] 0.056317 kWh of electricity used since the beginning.\n",
      "[codecarbon INFO @ 13:54:07] Energy consumed for RAM : 0.004486 kWh. RAM Power : 22.447006702423096 W\n",
      "[codecarbon INFO @ 13:54:07] Energy consumed for all GPUs : 0.044687 kWh. Total GPU Power : 260.543 W\n",
      "[codecarbon INFO @ 13:54:07] Energy consumed for all CPUs : 0.008499 kWh. Total CPU Power : 42.5 W\n",
      "[codecarbon INFO @ 13:54:07] 0.057672 kWh of electricity used since the beginning.\n",
      "[codecarbon INFO @ 13:54:22] Energy consumed for RAM : 0.004580 kWh. RAM Power : 22.447006702423096 W\n",
      "[codecarbon INFO @ 13:54:22] Energy consumed for all GPUs : 0.045791 kWh. Total GPU Power : 265.09000000000003 W\n",
      "[codecarbon INFO @ 13:54:22] Energy consumed for all CPUs : 0.008676 kWh. Total CPU Power : 42.5 W\n",
      "[codecarbon INFO @ 13:54:22] 0.059047 kWh of electricity used since the beginning.\n"
     ]
    },
    {
     "name": "stdout",
     "output_type": "stream",
     "text": [
      "train Loss: 0.6144 Acc: 0.7458 Precision: 0.7560 Recall: 0.7458 F1: 0.7475\n",
      "Confusion Matrix:\n",
      "[[2860  247  416   93]\n",
      " [  89 1119   79   63]\n",
      " [ 537  341 2389  302]\n",
      " [ 220  185  513 2684]]\n",
      "Energy consumed: 14703138 mJ\n"
     ]
    },
    {
     "name": "stderr",
     "output_type": "stream",
     "text": [
      "[codecarbon INFO @ 13:54:37] Energy consumed for RAM : 0.004673 kWh. RAM Power : 22.447006702423096 W\n",
      "[codecarbon INFO @ 13:54:37] Energy consumed for all GPUs : 0.046033 kWh. Total GPU Power : 58.006 W\n",
      "[codecarbon INFO @ 13:54:37] Energy consumed for all CPUs : 0.008853 kWh. Total CPU Power : 42.5 W\n",
      "[codecarbon INFO @ 13:54:37] 0.059559 kWh of electricity used since the beginning.\n"
     ]
    },
    {
     "name": "stdout",
     "output_type": "stream",
     "text": [
      "validation Loss: 0.5854 Acc: 0.7711 Precision: 0.7795 Recall: 0.7711 F1: 0.7730\n",
      "Confusion Matrix:\n",
      "[[954  86 142  28]\n",
      " [ 27 331  24  33]\n",
      " [179 101 856  95]\n",
      " [ 41  54 116 979]]\n",
      "Energy consumed: 561851 mJ\n",
      "\n",
      "Epoch 10/19\n",
      "----------\n"
     ]
    },
    {
     "name": "stderr",
     "output_type": "stream",
     "text": [
      "[codecarbon INFO @ 13:54:52] Energy consumed for RAM : 0.004767 kWh. RAM Power : 22.447006702423096 W\n",
      "[codecarbon INFO @ 13:54:52] Energy consumed for all GPUs : 0.047088 kWh. Total GPU Power : 253.58199999999997 W\n",
      "[codecarbon INFO @ 13:54:52] Energy consumed for all CPUs : 0.009030 kWh. Total CPU Power : 42.5 W\n",
      "[codecarbon INFO @ 13:54:52] 0.060886 kWh of electricity used since the beginning.\n",
      "[codecarbon INFO @ 13:55:07] Energy consumed for RAM : 0.004860 kWh. RAM Power : 22.447006702423096 W\n",
      "[codecarbon INFO @ 13:55:07] Energy consumed for all GPUs : 0.047992 kWh. Total GPU Power : 216.88100000000003 W\n",
      "[codecarbon INFO @ 13:55:07] Energy consumed for all CPUs : 0.009207 kWh. Total CPU Power : 42.5 W\n",
      "[codecarbon INFO @ 13:55:07] 0.062059 kWh of electricity used since the beginning.\n",
      "[codecarbon INFO @ 13:55:22] Energy consumed for RAM : 0.004954 kWh. RAM Power : 22.447006702423096 W\n",
      "[codecarbon INFO @ 13:55:22] Energy consumed for all GPUs : 0.048925 kWh. Total GPU Power : 224.26200000000003 W\n",
      "[codecarbon INFO @ 13:55:22] Energy consumed for all CPUs : 0.009384 kWh. Total CPU Power : 42.5 W\n",
      "[codecarbon INFO @ 13:55:22] 0.063264 kWh of electricity used since the beginning.\n",
      "[codecarbon INFO @ 13:55:37] Energy consumed for RAM : 0.005047 kWh. RAM Power : 22.447006702423096 W\n",
      "[codecarbon INFO @ 13:55:37] Energy consumed for all GPUs : 0.049738 kWh. Total GPU Power : 195.163 W\n",
      "[codecarbon INFO @ 13:55:37] Energy consumed for all CPUs : 0.009562 kWh. Total CPU Power : 42.5 W\n",
      "[codecarbon INFO @ 13:55:37] 0.064347 kWh of electricity used since the beginning.\n"
     ]
    },
    {
     "name": "stdout",
     "output_type": "stream",
     "text": [
      "train Loss: 0.6136 Acc: 0.7395 Precision: 0.7499 Recall: 0.7395 F1: 0.7411\n",
      "Confusion Matrix:\n",
      "[[2780  275  441  120]\n",
      " [  75 1145   73   57]\n",
      " [ 502  348 2372  347]\n",
      " [ 210  185  529 2678]]\n",
      "Energy consumed: 14681265 mJ\n"
     ]
    },
    {
     "name": "stderr",
     "output_type": "stream",
     "text": [
      "[codecarbon INFO @ 13:55:52] Energy consumed for RAM : 0.005141 kWh. RAM Power : 22.447006702423096 W\n",
      "[codecarbon INFO @ 13:55:52] Energy consumed for all GPUs : 0.050129 kWh. Total GPU Power : 93.69800000000001 W\n",
      "[codecarbon INFO @ 13:55:52] Energy consumed for all CPUs : 0.009739 kWh. Total CPU Power : 42.5 W\n",
      "[codecarbon INFO @ 13:55:52] 0.065008 kWh of electricity used since the beginning.\n"
     ]
    },
    {
     "name": "stdout",
     "output_type": "stream",
     "text": [
      "validation Loss: 0.5795 Acc: 0.7684 Precision: 0.7808 Recall: 0.7684 F1: 0.7709\n",
      "Confusion Matrix:\n",
      "[[971  95 124  20]\n",
      " [ 25 341  23  26]\n",
      " [202 109 839  81]\n",
      " [ 48  62 122 958]]\n",
      "Energy consumed: 617405 mJ\n",
      "\n",
      "Epoch 11/19\n",
      "----------\n"
     ]
    },
    {
     "name": "stderr",
     "output_type": "stream",
     "text": [
      "[codecarbon INFO @ 13:56:07] Energy consumed for RAM : 0.005234 kWh. RAM Power : 22.447006702423096 W\n",
      "[codecarbon INFO @ 13:56:07] Energy consumed for all GPUs : 0.051199 kWh. Total GPU Power : 257.184 W\n",
      "[codecarbon INFO @ 13:56:07] Energy consumed for all CPUs : 0.009916 kWh. Total CPU Power : 42.5 W\n",
      "[codecarbon INFO @ 13:56:07] 0.066349 kWh of electricity used since the beginning.\n",
      "[codecarbon INFO @ 13:56:22] Energy consumed for RAM : 0.005327 kWh. RAM Power : 22.447006702423096 W\n",
      "[codecarbon INFO @ 13:56:22] Energy consumed for all GPUs : 0.052238 kWh. Total GPU Power : 249.368 W\n",
      "[codecarbon INFO @ 13:56:22] Energy consumed for all CPUs : 0.010093 kWh. Total CPU Power : 42.5 W\n",
      "[codecarbon INFO @ 13:56:22] 0.067658 kWh of electricity used since the beginning.\n",
      "[codecarbon INFO @ 13:56:37] Energy consumed for RAM : 0.005421 kWh. RAM Power : 22.447006702423096 W\n",
      "[codecarbon INFO @ 13:56:37] Energy consumed for all GPUs : 0.053293 kWh. Total GPU Power : 253.41000000000003 W\n",
      "[codecarbon INFO @ 13:56:37] Energy consumed for all CPUs : 0.010270 kWh. Total CPU Power : 42.5 W\n",
      "[codecarbon INFO @ 13:56:37] 0.068984 kWh of electricity used since the beginning.\n",
      "[codecarbon INFO @ 13:56:52] Energy consumed for RAM : 0.005514 kWh. RAM Power : 22.447006702423096 W\n",
      "[codecarbon INFO @ 13:56:52] Energy consumed for all GPUs : 0.054371 kWh. Total GPU Power : 258.774 W\n",
      "[codecarbon INFO @ 13:56:52] Energy consumed for all CPUs : 0.010447 kWh. Total CPU Power : 42.5 W\n",
      "[codecarbon INFO @ 13:56:52] 0.070332 kWh of electricity used since the beginning.\n"
     ]
    },
    {
     "name": "stdout",
     "output_type": "stream",
     "text": [
      "train Loss: 0.6169 Acc: 0.7392 Precision: 0.7489 Recall: 0.7392 F1: 0.7407\n",
      "Confusion Matrix:\n",
      "[[2830  257  427  102]\n",
      " [  68 1121  101   60]\n",
      " [ 542  332 2360  335]\n",
      " [ 219  184  538 2661]]\n",
      "Energy consumed: 14711586 mJ\n"
     ]
    },
    {
     "name": "stderr",
     "output_type": "stream",
     "text": [
      "[codecarbon INFO @ 13:57:07] Energy consumed for RAM : 0.005608 kWh. RAM Power : 22.447006702423096 W\n",
      "[codecarbon INFO @ 13:57:07] Energy consumed for all GPUs : 0.055118 kWh. Total GPU Power : 179.502 W\n",
      "[codecarbon INFO @ 13:57:07] Energy consumed for all CPUs : 0.010624 kWh. Total CPU Power : 42.5 W\n",
      "[codecarbon INFO @ 13:57:07] 0.071350 kWh of electricity used since the beginning.\n"
     ]
    },
    {
     "name": "stdout",
     "output_type": "stream",
     "text": [
      "validation Loss: 0.5911 Acc: 0.7664 Precision: 0.7750 Recall: 0.7664 F1: 0.7679\n",
      "Confusion Matrix:\n",
      "[[ 933   96  146   35]\n",
      " [  23  332   25   35]\n",
      " [ 171  105  836  119]\n",
      " [  39   53   98 1000]]\n",
      "Energy consumed: 578447 mJ\n",
      "\n",
      "Epoch 12/19\n",
      "----------\n"
     ]
    },
    {
     "name": "stderr",
     "output_type": "stream",
     "text": [
      "[codecarbon INFO @ 13:57:22] Energy consumed for RAM : 0.005701 kWh. RAM Power : 22.447006702423096 W\n",
      "[codecarbon INFO @ 13:57:22] Energy consumed for all GPUs : 0.056149 kWh. Total GPU Power : 247.476 W\n",
      "[codecarbon INFO @ 13:57:22] Energy consumed for all CPUs : 0.010801 kWh. Total CPU Power : 42.5 W\n",
      "[codecarbon INFO @ 13:57:22] 0.072651 kWh of electricity used since the beginning.\n",
      "[codecarbon INFO @ 13:57:37] Energy consumed for RAM : 0.005795 kWh. RAM Power : 22.447006702423096 W\n",
      "[codecarbon INFO @ 13:57:37] Energy consumed for all GPUs : 0.056801 kWh. Total GPU Power : 156.67000000000004 W\n",
      "[codecarbon INFO @ 13:57:37] Energy consumed for all CPUs : 0.010978 kWh. Total CPU Power : 42.5 W\n",
      "[codecarbon INFO @ 13:57:37] 0.073574 kWh of electricity used since the beginning.\n",
      "[codecarbon INFO @ 13:57:52] Energy consumed for RAM : 0.005888 kWh. RAM Power : 22.447006702423096 W\n",
      "[codecarbon INFO @ 13:57:52] Energy consumed for all GPUs : 0.057678 kWh. Total GPU Power : 210.53900000000004 W\n",
      "[codecarbon INFO @ 13:57:52] Energy consumed for all CPUs : 0.011155 kWh. Total CPU Power : 42.5 W\n",
      "[codecarbon INFO @ 13:57:52] 0.074721 kWh of electricity used since the beginning.\n",
      "[codecarbon INFO @ 13:58:07] Energy consumed for RAM : 0.005982 kWh. RAM Power : 22.447006702423096 W\n",
      "[codecarbon INFO @ 13:58:07] Energy consumed for all GPUs : 0.058600 kWh. Total GPU Power : 221.464 W\n",
      "[codecarbon INFO @ 13:58:07] Energy consumed for all CPUs : 0.011332 kWh. Total CPU Power : 42.5 W\n",
      "[codecarbon INFO @ 13:58:07] 0.075914 kWh of electricity used since the beginning.\n"
     ]
    },
    {
     "name": "stdout",
     "output_type": "stream",
     "text": [
      "train Loss: 0.6214 Acc: 0.7430 Precision: 0.7538 Recall: 0.7430 F1: 0.7452\n",
      "Confusion Matrix:\n",
      "[[2795  268  466   87]\n",
      " [  96 1105   85   64]\n",
      " [ 522  321 2421  305]\n",
      " [ 205  194  506 2697]]\n",
      "Energy consumed: 14692865 mJ\n"
     ]
    },
    {
     "name": "stderr",
     "output_type": "stream",
     "text": [
      "[codecarbon INFO @ 13:58:22] Energy consumed for RAM : 0.006075 kWh. RAM Power : 22.447006702423096 W\n",
      "[codecarbon INFO @ 13:58:22] Energy consumed for all GPUs : 0.059084 kWh. Total GPU Power : 115.982 W\n",
      "[codecarbon INFO @ 13:58:22] Energy consumed for all CPUs : 0.011509 kWh. Total CPU Power : 42.5 W\n",
      "[codecarbon INFO @ 13:58:22] 0.076668 kWh of electricity used since the beginning.\n"
     ]
    },
    {
     "name": "stdout",
     "output_type": "stream",
     "text": [
      "validation Loss: 0.5784 Acc: 0.7662 Precision: 0.7792 Recall: 0.7662 F1: 0.7691\n",
      "Confusion Matrix:\n",
      "[[929 103 154  24]\n",
      " [ 20 347  19  29]\n",
      " [166 115 854  96]\n",
      " [ 38  62 120 970]]\n",
      "Energy consumed: 517426 mJ\n",
      "\n",
      "Epoch 13/19\n",
      "----------\n"
     ]
    },
    {
     "name": "stderr",
     "output_type": "stream",
     "text": [
      "[codecarbon INFO @ 13:58:37] Energy consumed for RAM : 0.006169 kWh. RAM Power : 22.447006702423096 W\n",
      "[codecarbon INFO @ 13:58:37] Energy consumed for all GPUs : 0.060171 kWh. Total GPU Power : 261.074 W\n",
      "[codecarbon INFO @ 13:58:37] Energy consumed for all CPUs : 0.011686 kWh. Total CPU Power : 42.5 W\n",
      "[codecarbon INFO @ 13:58:37] 0.078026 kWh of electricity used since the beginning.\n",
      "[codecarbon INFO @ 13:58:52] Energy consumed for RAM : 0.006262 kWh. RAM Power : 22.447006702423096 W\n",
      "[codecarbon INFO @ 13:58:52] Energy consumed for all GPUs : 0.061075 kWh. Total GPU Power : 217.174 W\n",
      "[codecarbon INFO @ 13:58:52] Energy consumed for all CPUs : 0.011863 kWh. Total CPU Power : 42.5 W\n",
      "[codecarbon INFO @ 13:58:52] 0.079201 kWh of electricity used since the beginning.\n",
      "[codecarbon INFO @ 13:59:07] Energy consumed for RAM : 0.006356 kWh. RAM Power : 22.447006702423096 W\n",
      "[codecarbon INFO @ 13:59:07] Energy consumed for all GPUs : 0.062136 kWh. Total GPU Power : 254.699 W\n",
      "[codecarbon INFO @ 13:59:07] Energy consumed for all CPUs : 0.012040 kWh. Total CPU Power : 42.5 W\n",
      "[codecarbon INFO @ 13:59:07] 0.080532 kWh of electricity used since the beginning.\n",
      "[codecarbon INFO @ 13:59:22] Energy consumed for RAM : 0.006449 kWh. RAM Power : 22.447006702423096 W\n",
      "[codecarbon INFO @ 13:59:22] Energy consumed for all GPUs : 0.063247 kWh. Total GPU Power : 266.868 W\n",
      "[codecarbon INFO @ 13:59:22] Energy consumed for all CPUs : 0.012218 kWh. Total CPU Power : 42.5 W\n",
      "[codecarbon INFO @ 13:59:22] 0.081914 kWh of electricity used since the beginning.\n"
     ]
    },
    {
     "name": "stdout",
     "output_type": "stream",
     "text": [
      "train Loss: 0.6289 Acc: 0.7370 Precision: 0.7478 Recall: 0.7370 F1: 0.7389\n",
      "Confusion Matrix:\n",
      "[[2802  258  450  106]\n",
      " [  78 1121   88   63]\n",
      " [ 525  360 2355  329]\n",
      " [ 200  192  543 2667]]\n",
      "Energy consumed: 14714347 mJ\n",
      "validation Loss: 0.5805 Acc: 0.7654 Precision: 0.7765 Recall: 0.7654 F1: 0.7683\n",
      "Confusion Matrix:\n",
      "[[911  87 192  20]\n",
      " [ 27 336  22  30]\n",
      " [151 103 881  96]\n",
      " [ 38  63 120 969]]\n",
      "Energy consumed: 561698 mJ\n",
      "\n",
      "Epoch 14/19\n",
      "----------\n"
     ]
    },
    {
     "name": "stderr",
     "output_type": "stream",
     "text": [
      "[codecarbon INFO @ 13:59:37] Energy consumed for RAM : 0.006543 kWh. RAM Power : 22.447006702423096 W\n",
      "[codecarbon INFO @ 13:59:37] Energy consumed for all GPUs : 0.063483 kWh. Total GPU Power : 56.571 W\n",
      "[codecarbon INFO @ 13:59:37] Energy consumed for all CPUs : 0.012395 kWh. Total CPU Power : 42.5 W\n",
      "[codecarbon INFO @ 13:59:37] 0.082420 kWh of electricity used since the beginning.\n",
      "[codecarbon INFO @ 13:59:52] Energy consumed for RAM : 0.006636 kWh. RAM Power : 22.447006702423096 W\n",
      "[codecarbon INFO @ 13:59:52] Energy consumed for all GPUs : 0.064438 kWh. Total GPU Power : 229.48600000000002 W\n",
      "[codecarbon INFO @ 13:59:52] Energy consumed for all CPUs : 0.012572 kWh. Total CPU Power : 42.5 W\n",
      "[codecarbon INFO @ 13:59:52] 0.083646 kWh of electricity used since the beginning.\n",
      "[codecarbon INFO @ 14:00:07] Energy consumed for RAM : 0.006729 kWh. RAM Power : 22.447006702423096 W\n",
      "[codecarbon INFO @ 14:00:07] Energy consumed for all GPUs : 0.065557 kWh. Total GPU Power : 268.65 W\n",
      "[codecarbon INFO @ 14:00:07] Energy consumed for all CPUs : 0.012749 kWh. Total CPU Power : 42.5 W\n",
      "[codecarbon INFO @ 14:00:07] 0.085035 kWh of electricity used since the beginning.\n",
      "[codecarbon INFO @ 14:00:22] Energy consumed for RAM : 0.006823 kWh. RAM Power : 22.447006702423096 W\n",
      "[codecarbon INFO @ 14:00:22] Energy consumed for all GPUs : 0.066461 kWh. Total GPU Power : 217.13900000000004 W\n",
      "[codecarbon INFO @ 14:00:22] Energy consumed for all CPUs : 0.012926 kWh. Total CPU Power : 42.5 W\n",
      "[codecarbon INFO @ 14:00:22] 0.086210 kWh of electricity used since the beginning.\n",
      "[codecarbon INFO @ 14:00:37] Energy consumed for RAM : 0.006916 kWh. RAM Power : 22.447006702423096 W\n",
      "[codecarbon INFO @ 14:00:37] Energy consumed for all GPUs : 0.067506 kWh. Total GPU Power : 250.822 W\n",
      "[codecarbon INFO @ 14:00:37] Energy consumed for all CPUs : 0.013103 kWh. Total CPU Power : 42.5 W\n",
      "[codecarbon INFO @ 14:00:37] 0.087525 kWh of electricity used since the beginning.\n"
     ]
    },
    {
     "name": "stdout",
     "output_type": "stream",
     "text": [
      "train Loss: 0.6442 Acc: 0.7293 Precision: 0.7405 Recall: 0.7293 F1: 0.7315\n",
      "Confusion Matrix:\n",
      "[[2744  296  466  110]\n",
      " [  94 1103   95   58]\n",
      " [ 525  358 2322  364]\n",
      " [ 197  199  523 2683]]\n",
      "Energy consumed: 14698902 mJ\n",
      "validation Loss: 0.6037 Acc: 0.7477 Precision: 0.7684 Recall: 0.7477 F1: 0.7518\n",
      "Confusion Matrix:\n",
      "[[846 110 231  23]\n",
      " [ 20 356  18  21]\n",
      " [107 138 863 123]\n",
      " [ 32  72 126 960]]\n",
      "Energy consumed: 581899 mJ\n",
      "\n",
      "Epoch 15/19\n",
      "----------\n"
     ]
    },
    {
     "name": "stderr",
     "output_type": "stream",
     "text": [
      "[codecarbon INFO @ 14:00:52] Energy consumed for RAM : 0.007010 kWh. RAM Power : 22.447006702423096 W\n",
      "[codecarbon INFO @ 14:00:52] Energy consumed for all GPUs : 0.068484 kWh. Total GPU Power : 234.70600000000002 W\n",
      "[codecarbon INFO @ 14:00:52] Energy consumed for all CPUs : 0.013280 kWh. Total CPU Power : 42.5 W\n",
      "[codecarbon INFO @ 14:00:52] 0.088774 kWh of electricity used since the beginning.\n",
      "[codecarbon INFO @ 14:01:07] Energy consumed for RAM : 0.007103 kWh. RAM Power : 22.447006702423096 W\n",
      "[codecarbon INFO @ 14:01:07] Energy consumed for all GPUs : 0.069203 kWh. Total GPU Power : 172.849 W\n",
      "[codecarbon INFO @ 14:01:07] Energy consumed for all CPUs : 0.013457 kWh. Total CPU Power : 42.5 W\n",
      "[codecarbon INFO @ 14:01:07] 0.089764 kWh of electricity used since the beginning.\n",
      "[codecarbon INFO @ 14:01:22] Energy consumed for RAM : 0.007197 kWh. RAM Power : 22.447006702423096 W\n",
      "[codecarbon INFO @ 14:01:22] Energy consumed for all GPUs : 0.070252 kWh. Total GPU Power : 251.865 W\n",
      "[codecarbon INFO @ 14:01:22] Energy consumed for all CPUs : 0.013634 kWh. Total CPU Power : 42.5 W\n",
      "[codecarbon INFO @ 14:01:22] 0.091083 kWh of electricity used since the beginning.\n",
      "[codecarbon INFO @ 14:01:37] Energy consumed for RAM : 0.007290 kWh. RAM Power : 22.447006702423096 W\n",
      "[codecarbon INFO @ 14:01:37] Energy consumed for all GPUs : 0.071264 kWh. Total GPU Power : 242.91100000000003 W\n",
      "[codecarbon INFO @ 14:01:37] Energy consumed for all CPUs : 0.013811 kWh. Total CPU Power : 42.5 W\n",
      "[codecarbon INFO @ 14:01:37] 0.092365 kWh of electricity used since the beginning.\n",
      "[codecarbon INFO @ 14:01:52] Energy consumed for RAM : 0.007384 kWh. RAM Power : 22.447006702423096 W\n",
      "[codecarbon INFO @ 14:01:52] Energy consumed for all GPUs : 0.072353 kWh. Total GPU Power : 261.545 W\n",
      "[codecarbon INFO @ 14:01:52] Energy consumed for all CPUs : 0.013988 kWh. Total CPU Power : 42.5 W\n",
      "[codecarbon INFO @ 14:01:52] 0.093725 kWh of electricity used since the beginning.\n"
     ]
    },
    {
     "name": "stdout",
     "output_type": "stream",
     "text": [
      "train Loss: 0.6452 Acc: 0.7274 Precision: 0.7372 Recall: 0.7274 F1: 0.7290\n",
      "Confusion Matrix:\n",
      "[[2776  271  463  106]\n",
      " [  74 1111   93   72]\n",
      " [ 534  340 2307  388]\n",
      " [ 204  204  559 2635]]\n",
      "Energy consumed: 14736024 mJ\n",
      "validation Loss: 0.6624 Acc: 0.7308 Precision: 0.7462 Recall: 0.7308 F1: 0.7300\n",
      "Confusion Matrix:\n",
      "[[914 121 128  47]\n",
      " [ 17 343  22  33]\n",
      " [166 128 701 236]\n",
      " [ 46  71  74 999]]\n",
      "Energy consumed: 593832 mJ\n",
      "\n",
      "Epoch 16/19\n",
      "----------\n"
     ]
    },
    {
     "name": "stderr",
     "output_type": "stream",
     "text": [
      "[codecarbon INFO @ 14:02:07] Energy consumed for RAM : 0.007477 kWh. RAM Power : 22.447006702423096 W\n",
      "[codecarbon INFO @ 14:02:07] Energy consumed for all GPUs : 0.073364 kWh. Total GPU Power : 242.747 W\n",
      "[codecarbon INFO @ 14:02:07] Energy consumed for all CPUs : 0.014165 kWh. Total CPU Power : 42.5 W\n",
      "[codecarbon INFO @ 14:02:07] 0.095007 kWh of electricity used since the beginning.\n",
      "[codecarbon INFO @ 14:02:22] Energy consumed for RAM : 0.007571 kWh. RAM Power : 22.447006702423096 W\n",
      "[codecarbon INFO @ 14:02:22] Energy consumed for all GPUs : 0.074261 kWh. Total GPU Power : 215.461 W\n",
      "[codecarbon INFO @ 14:02:22] Energy consumed for all CPUs : 0.014342 kWh. Total CPU Power : 42.5 W\n",
      "[codecarbon INFO @ 14:02:22] 0.096174 kWh of electricity used since the beginning.\n",
      "[codecarbon INFO @ 14:02:37] Energy consumed for RAM : 0.007664 kWh. RAM Power : 22.447006702423096 W\n",
      "[codecarbon INFO @ 14:02:37] Energy consumed for all GPUs : 0.075356 kWh. Total GPU Power : 262.906 W\n",
      "[codecarbon INFO @ 14:02:37] Energy consumed for all CPUs : 0.014519 kWh. Total CPU Power : 42.5 W\n",
      "[codecarbon INFO @ 14:02:37] 0.097540 kWh of electricity used since the beginning.\n",
      "[codecarbon INFO @ 14:02:52] Energy consumed for RAM : 0.007758 kWh. RAM Power : 22.447006702423096 W\n",
      "[codecarbon INFO @ 14:02:52] Energy consumed for all GPUs : 0.076246 kWh. Total GPU Power : 213.52700000000002 W\n",
      "[codecarbon INFO @ 14:02:52] Energy consumed for all CPUs : 0.014696 kWh. Total CPU Power : 42.5 W\n",
      "[codecarbon INFO @ 14:02:52] 0.098700 kWh of electricity used since the beginning.\n",
      "[codecarbon INFO @ 14:03:07] Energy consumed for RAM : 0.007851 kWh. RAM Power : 22.447006702423096 W\n",
      "[codecarbon INFO @ 14:03:07] Energy consumed for all GPUs : 0.076707 kWh. Total GPU Power : 110.811 W\n",
      "[codecarbon INFO @ 14:03:07] Energy consumed for all CPUs : 0.014873 kWh. Total CPU Power : 42.5 W\n",
      "[codecarbon INFO @ 14:03:07] 0.099432 kWh of electricity used since the beginning.\n"
     ]
    },
    {
     "name": "stdout",
     "output_type": "stream",
     "text": [
      "train Loss: 0.6732 Acc: 0.7190 Precision: 0.7321 Recall: 0.7190 F1: 0.7214\n",
      "Confusion Matrix:\n",
      "[[2721  289  486  120]\n",
      " [  96 1103   81   70]\n",
      " [ 540  368 2294  367]\n",
      " [ 204  264  525 2609]]\n",
      "Energy consumed: 14683448 mJ\n",
      "validation Loss: 0.6299 Acc: 0.7561 Precision: 0.7741 Recall: 0.7561 F1: 0.7607\n",
      "Confusion Matrix:\n",
      "[[899  77 217  17]\n",
      " [ 35 336  24  20]\n",
      " [130 132 891  78]\n",
      " [ 34  75 148 933]]\n",
      "Energy consumed: 634560 mJ\n",
      "\n",
      "Epoch 17/19\n",
      "----------\n"
     ]
    },
    {
     "name": "stderr",
     "output_type": "stream",
     "text": [
      "[codecarbon INFO @ 14:03:22] Energy consumed for RAM : 0.007945 kWh. RAM Power : 22.447006702423096 W\n",
      "[codecarbon INFO @ 14:03:22] Energy consumed for all GPUs : 0.077161 kWh. Total GPU Power : 108.90300000000002 W\n",
      "[codecarbon INFO @ 14:03:22] Energy consumed for all CPUs : 0.015051 kWh. Total CPU Power : 42.5 W\n",
      "[codecarbon INFO @ 14:03:22] 0.100156 kWh of electricity used since the beginning.\n",
      "[codecarbon INFO @ 14:03:37] Energy consumed for RAM : 0.008038 kWh. RAM Power : 22.447006702423096 W\n",
      "[codecarbon INFO @ 14:03:37] Energy consumed for all GPUs : 0.078243 kWh. Total GPU Power : 259.894 W\n",
      "[codecarbon INFO @ 14:03:37] Energy consumed for all CPUs : 0.015228 kWh. Total CPU Power : 42.5 W\n",
      "[codecarbon INFO @ 14:03:37] 0.101508 kWh of electricity used since the beginning.\n",
      "[codecarbon INFO @ 14:03:52] Energy consumed for RAM : 0.008131 kWh. RAM Power : 22.447006702423096 W\n",
      "[codecarbon INFO @ 14:03:52] Energy consumed for all GPUs : 0.078732 kWh. Total GPU Power : 117.491 W\n",
      "[codecarbon INFO @ 14:03:52] Energy consumed for all CPUs : 0.015405 kWh. Total CPU Power : 42.5 W\n",
      "[codecarbon INFO @ 14:03:52] 0.102268 kWh of electricity used since the beginning.\n",
      "[codecarbon INFO @ 14:04:07] Energy consumed for RAM : 0.008225 kWh. RAM Power : 22.447006702423096 W\n",
      "[codecarbon INFO @ 14:04:07] Energy consumed for all GPUs : 0.079658 kWh. Total GPU Power : 222.387 W\n",
      "[codecarbon INFO @ 14:04:07] Energy consumed for all CPUs : 0.015582 kWh. Total CPU Power : 42.5 W\n",
      "[codecarbon INFO @ 14:04:07] 0.103465 kWh of electricity used since the beginning.\n"
     ]
    },
    {
     "name": "stdout",
     "output_type": "stream",
     "text": [
      "train Loss: 0.6844 Acc: 0.7162 Precision: 0.7281 Recall: 0.7162 F1: 0.7183\n",
      "Confusion Matrix:\n",
      "[[2749  278  474  115]\n",
      " [ 111 1083   89   67]\n",
      " [ 542  372 2289  366]\n",
      " [ 229  229  573 2571]]\n",
      "Energy consumed: 14697464 mJ\n"
     ]
    },
    {
     "name": "stderr",
     "output_type": "stream",
     "text": [
      "[codecarbon INFO @ 14:04:22] Energy consumed for RAM : 0.008318 kWh. RAM Power : 22.447006702423096 W\n",
      "[codecarbon INFO @ 14:04:22] Energy consumed for all GPUs : 0.080397 kWh. Total GPU Power : 177.249 W\n",
      "[codecarbon INFO @ 14:04:22] Energy consumed for all CPUs : 0.015759 kWh. Total CPU Power : 42.5 W\n",
      "[codecarbon INFO @ 14:04:22] 0.104474 kWh of electricity used since the beginning.\n"
     ]
    },
    {
     "name": "stdout",
     "output_type": "stream",
     "text": [
      "validation Loss: 0.7896 Acc: 0.6893 Precision: 0.7354 Recall: 0.6893 F1: 0.6861\n",
      "Confusion Matrix:\n",
      "[[1024   40  145    1]\n",
      " [  63  261   77   14]\n",
      " [ 212   84  920   15]\n",
      " [  97   54  455  584]]\n",
      "Energy consumed: 633501 mJ\n",
      "\n",
      "Epoch 18/19\n",
      "----------\n"
     ]
    },
    {
     "name": "stderr",
     "output_type": "stream",
     "text": [
      "[codecarbon INFO @ 14:04:37] Energy consumed for RAM : 0.008412 kWh. RAM Power : 22.447006702423096 W\n",
      "[codecarbon INFO @ 14:04:37] Energy consumed for all GPUs : 0.081507 kWh. Total GPU Power : 266.755 W\n",
      "[codecarbon INFO @ 14:04:37] Energy consumed for all CPUs : 0.015936 kWh. Total CPU Power : 42.5 W\n",
      "[codecarbon INFO @ 14:04:37] 0.105855 kWh of electricity used since the beginning.\n",
      "[codecarbon INFO @ 14:04:52] Energy consumed for RAM : 0.008505 kWh. RAM Power : 22.447006702423096 W\n",
      "[codecarbon INFO @ 14:04:52] Energy consumed for all GPUs : 0.082589 kWh. Total GPU Power : 259.894 W\n",
      "[codecarbon INFO @ 14:04:52] Energy consumed for all CPUs : 0.016113 kWh. Total CPU Power : 42.5 W\n",
      "[codecarbon INFO @ 14:04:52] 0.107208 kWh of electricity used since the beginning.\n",
      "[codecarbon INFO @ 14:05:07] Energy consumed for RAM : 0.008599 kWh. RAM Power : 22.447006702423096 W\n",
      "[codecarbon INFO @ 14:05:07] Energy consumed for all GPUs : 0.083653 kWh. Total GPU Power : 255.297 W\n",
      "[codecarbon INFO @ 14:05:07] Energy consumed for all CPUs : 0.016290 kWh. Total CPU Power : 42.5 W\n",
      "[codecarbon INFO @ 14:05:07] 0.108541 kWh of electricity used since the beginning.\n",
      "[codecarbon INFO @ 14:05:22] Energy consumed for RAM : 0.008692 kWh. RAM Power : 22.447006702423096 W\n",
      "[codecarbon INFO @ 14:05:22] Energy consumed for all GPUs : 0.084750 kWh. Total GPU Power : 263.379 W\n",
      "[codecarbon INFO @ 14:05:22] Energy consumed for all CPUs : 0.016467 kWh. Total CPU Power : 42.5 W\n",
      "[codecarbon INFO @ 14:05:22] 0.109909 kWh of electricity used since the beginning.\n"
     ]
    },
    {
     "name": "stdout",
     "output_type": "stream",
     "text": [
      "train Loss: 0.6826 Acc: 0.7109 Precision: 0.7219 Recall: 0.7109 F1: 0.7127\n",
      "Confusion Matrix:\n",
      "[[2733  267  496  120]\n",
      " [ 105 1087   90   68]\n",
      " [ 527  352 2284  406]\n",
      " [ 231  239  608 2524]]\n",
      "Energy consumed: 14673074 mJ\n"
     ]
    },
    {
     "name": "stderr",
     "output_type": "stream",
     "text": [
      "[codecarbon INFO @ 14:05:37] Energy consumed for RAM : 0.008786 kWh. RAM Power : 22.447006702423096 W\n",
      "[codecarbon INFO @ 14:05:37] Energy consumed for all GPUs : 0.085405 kWh. Total GPU Power : 157.252 W\n",
      "[codecarbon INFO @ 14:05:37] Energy consumed for all CPUs : 0.016644 kWh. Total CPU Power : 42.5 W\n",
      "[codecarbon INFO @ 14:05:37] 0.110834 kWh of electricity used since the beginning.\n"
     ]
    },
    {
     "name": "stdout",
     "output_type": "stream",
     "text": [
      "validation Loss: 0.6417 Acc: 0.7548 Precision: 0.7654 Recall: 0.7548 F1: 0.7553\n",
      "Confusion Matrix:\n",
      "[[1047   58   97    8]\n",
      " [  45  300   32   38]\n",
      " [ 253  103  800   75]\n",
      " [  86   57  140  907]]\n",
      "Energy consumed: 538338 mJ\n",
      "\n",
      "Epoch 19/19\n",
      "----------\n"
     ]
    },
    {
     "name": "stderr",
     "output_type": "stream",
     "text": [
      "[codecarbon INFO @ 14:05:52] Energy consumed for RAM : 0.008879 kWh. RAM Power : 22.447006702423096 W\n",
      "[codecarbon INFO @ 14:05:52] Energy consumed for all GPUs : 0.086446 kWh. Total GPU Power : 250.145 W\n",
      "[codecarbon INFO @ 14:05:52] Energy consumed for all CPUs : 0.016821 kWh. Total CPU Power : 42.5 W\n",
      "[codecarbon INFO @ 14:05:52] 0.112146 kWh of electricity used since the beginning.\n",
      "[codecarbon INFO @ 14:06:07] Energy consumed for RAM : 0.008973 kWh. RAM Power : 22.447006702423096 W\n",
      "[codecarbon INFO @ 14:06:07] Energy consumed for all GPUs : 0.087494 kWh. Total GPU Power : 251.73299999999998 W\n",
      "[codecarbon INFO @ 14:06:07] Energy consumed for all CPUs : 0.016998 kWh. Total CPU Power : 42.5 W\n",
      "[codecarbon INFO @ 14:06:07] 0.113465 kWh of electricity used since the beginning.\n",
      "[codecarbon INFO @ 14:06:22] Energy consumed for RAM : 0.009066 kWh. RAM Power : 22.447006702423096 W\n",
      "[codecarbon INFO @ 14:06:22] Energy consumed for all GPUs : 0.088527 kWh. Total GPU Power : 247.918 W\n",
      "[codecarbon INFO @ 14:06:22] Energy consumed for all CPUs : 0.017175 kWh. Total CPU Power : 42.5 W\n",
      "[codecarbon INFO @ 14:06:22] 0.114768 kWh of electricity used since the beginning.\n",
      "[codecarbon INFO @ 14:06:37] Energy consumed for RAM : 0.009160 kWh. RAM Power : 22.447006702423096 W\n",
      "[codecarbon INFO @ 14:06:37] Energy consumed for all GPUs : 0.089609 kWh. Total GPU Power : 259.894 W\n",
      "[codecarbon INFO @ 14:06:37] Energy consumed for all CPUs : 0.017352 kWh. Total CPU Power : 42.5 W\n",
      "[codecarbon INFO @ 14:06:37] 0.116121 kWh of electricity used since the beginning.\n"
     ]
    },
    {
     "name": "stdout",
     "output_type": "stream",
     "text": [
      "train Loss: 0.6820 Acc: 0.7163 Precision: 0.7284 Recall: 0.7163 F1: 0.7182\n",
      "Confusion Matrix:\n",
      "[[2770  265  457  124]\n",
      " [  89 1103   96   62]\n",
      " [ 567  374 2273  355]\n",
      " [ 228  238  588 2548]]\n",
      "Energy consumed: 14676376 mJ\n"
     ]
    },
    {
     "name": "stderr",
     "output_type": "stream",
     "text": [
      "[codecarbon INFO @ 14:06:52] Energy consumed for RAM : 0.009253 kWh. RAM Power : 22.447006702423096 W\n",
      "[codecarbon INFO @ 14:06:52] Energy consumed for all GPUs : 0.090611 kWh. Total GPU Power : 240.54500000000002 W\n",
      "[codecarbon INFO @ 14:06:52] Energy consumed for all CPUs : 0.017529 kWh. Total CPU Power : 42.5 W\n",
      "[codecarbon INFO @ 14:06:52] 0.117394 kWh of electricity used since the beginning.\n"
     ]
    },
    {
     "name": "stdout",
     "output_type": "stream",
     "text": [
      "validation Loss: 0.7522 Acc: 0.6861 Precision: 0.7135 Recall: 0.6861 F1: 0.6841\n",
      "Confusion Matrix:\n",
      "[[ 726  114  257  113]\n",
      " [  21  333   17   44]\n",
      " [  73  156  681  321]\n",
      " [  13   61   80 1036]]\n",
      "Energy consumed: 598790 mJ\n",
      "\n",
      "Training complete in 24m 44s\n",
      "Best val Acc: 0.7711\n",
      "Best model weights saved at revision/101_20ep/best_model.pth\n",
      "Full best model saved at revision/101_20ep/full_best_model.pth\n"
     ]
    },
    {
     "name": "stderr",
     "output_type": "stream",
     "text": [
      "[codecarbon INFO @ 14:07:00] Energy consumed for RAM : 0.009307 kWh. RAM Power : 22.447006702423096 W\n",
      "[codecarbon INFO @ 14:07:00] Energy consumed for all GPUs : 0.090743 kWh. Total GPU Power : 55.172000000000004 W\n",
      "[codecarbon INFO @ 14:07:00] Energy consumed for all CPUs : 0.017631 kWh. Total CPU Power : 42.5 W\n",
      "[codecarbon INFO @ 14:07:00] 0.117681 kWh of electricity used since the beginning.\n"
     ]
    },
    {
     "name": "stdout",
     "output_type": "stream",
     "text": [
      "Training results saved to 'training_results.csv'\n",
      "CO2 emissions: 0.0434400864038517 kg\n",
      "CPU times: user 18min 36s, sys: 5min 18s, total: 23min 54s\n",
      "Wall time: 24min 45s\n"
     ]
    }
   ],
   "source": [
    "%%time\n",
    "model_ft, all_labels, all_preds = train_model(model_ft, criterion, optimizer_ft, exp_lr_scheduler, num_epochs=20)\n",
    "\n",
    "# Stop EmissionsTracker and get CO2 emissions\n",
    "emissions = tracker.stop()\n",
    "print(f'CO2 emissions: {emissions} kg')"
   ]
  },
  {
   "cell_type": "markdown",
   "id": "raising-management",
   "metadata": {},
   "source": [
    "### Visualize model"
   ]
  },
  {
   "cell_type": "code",
   "execution_count": 18,
   "id": "regulated-circulation",
   "metadata": {},
   "outputs": [],
   "source": [
    "def visualize_model(model, num_images=6):\n",
    "    was_training = model.training\n",
    "    model.eval()\n",
    "    images_so_far = 0\n",
    "    fig = plt.figure()\n",
    "\n",
    "    with torch.no_grad():\n",
    "        for i, (inputs, labels) in enumerate(dataloaders['validation']):\n",
    "            inputs = inputs.to(device)\n",
    "            labels = labels.to(device)\n",
    "\n",
    "            outputs = model(inputs)\n",
    "            _, preds = torch.max(outputs, 1)\n",
    "\n",
    "            for j in range(inputs.size()[0]):\n",
    "                images_so_far += 1\n",
    "                ax = plt.subplot(num_images//2, 2, images_so_far)\n",
    "                ax.axis('off')\n",
    "                ax.set_title(f'predicted: {class_names[preds[j]]}')\n",
    "                imshow(inputs.cpu().data[j])\n",
    "\n",
    "                if images_so_far == num_images:\n",
    "                    model.train(mode=was_training)\n",
    "                    return\n",
    "        model.train(mode=was_training)"
   ]
  },
  {
   "cell_type": "code",
   "execution_count": 19,
   "id": "stylish-revolution",
   "metadata": {},
   "outputs": [],
   "source": [
    "def imshow(inp, title=None):\n",
    "    \"\"\"Imshow for Tensor.\"\"\"\n",
    "    inp = inp.numpy().transpose((1, 2, 0))\n",
    "    mean = np.array([0.485, 0.456, 0.406])\n",
    "    std = np.array([0.229, 0.224, 0.225])\n",
    "    inp = std * inp + mean\n",
    "    inp = np.clip(inp, 0, 1)\n",
    "    plt.imshow(inp)\n",
    "    if title is not None:\n",
    "        plt.title(title)\n",
    "    plt.pause(0.001)  # pause a bit so that plots are updated"
   ]
  },
  {
   "cell_type": "code",
   "execution_count": 20,
   "id": "electronic-deposit",
   "metadata": {},
   "outputs": [
    {
     "data": {
      "image/png": "[encoded data removed]",
      "text/plain": [
       "<Figure size 432x288 with 1 Axes>"
      ]
     },
     "metadata": {
      "needs_background": "light"
     },
     "output_type": "display_data"
    },
    {
     "data": {
      "image/png": "[encoded data removed]",
      "text/plain": [
       "<Figure size 432x288 with 1 Axes>"
      ]
     },
     "metadata": {
      "needs_background": "light"
     },
     "output_type": "display_data"
    },
    {
     "data": {
      "image/png": "[encoded data removed]",
      "text/plain": [
       "<Figure size 432x288 with 1 Axes>"
      ]
     },
     "metadata": {
      "needs_background": "light"
     },
     "output_type": "display_data"
    },
    {
     "data": {
      "image/png": "[encoded data removed]",
      "text/plain": [
       "<Figure size 432x288 with 1 Axes>"
      ]
     },
     "metadata": {
      "needs_background": "light"
     },
     "output_type": "display_data"
    },
    {
     "data": {
      "image/png": "[encoded data removed]",
      "text/plain": [
       "<Figure size 432x288 with 1 Axes>"
      ]
     },
     "metadata": {
      "needs_background": "light"
     },
     "output_type": "display_data"
    },
    {
     "data": {
      "image/png": "[encoded data removed]",
      "text/plain": [
       "<Figure size 432x288 with 1 Axes>"
      ]
     },
     "metadata": {
      "needs_background": "light"
     },
     "output_type": "display_data"
    }
   ],
   "source": [
    "visualize_model(model_ft)"
   ]
  },
  {
   "cell_type": "code",
   "execution_count": 21,
   "id": "communist-experiment",
   "metadata": {},
   "outputs": [],
   "source": [
    "# Shutdown NVML\n",
    "pynvml.nvmlShutdown()"
   ]
  },
  {
   "cell_type": "markdown",
   "id": "structured-paper",
   "metadata": {},
   "source": [
    "## Graficar los Resultados"
   ]
  },
  {
   "cell_type": "code",
   "execution_count": 22,
   "id": "tested-german",
   "metadata": {},
   "outputs": [],
   "source": [
    "import pandas as pd\n",
    "import matplotlib.pyplot as plt"
   ]
  },
  {
   "cell_type": "code",
   "execution_count": 23,
   "id": "valuable-courtesy",
   "metadata": {},
   "outputs": [
    {
     "data": {
      "image/png": "[encoded data removed]",
      "text/plain": [
       "<Figure size 432x288 with 2 Axes>"
      ]
     },
     "metadata": {
      "needs_background": "light"
     },
     "output_type": "display_data"
    }
   ],
   "source": [
    "# Plotting the confusion matrix\n",
    "cm = confusion_matrix(all_labels, all_preds, labels=range(len(class_names)))\n",
    "disp = ConfusionMatrixDisplay(confusion_matrix=cm, display_labels=class_names)\n",
    "disp.plot(cmap=plt.cm.Blues)\n",
    "plt.title('Confusion Matrix')\n",
    "plt.show()"
   ]
  },
  {
   "cell_type": "code",
   "execution_count": 24,
   "id": "minus-paris",
   "metadata": {},
   "outputs": [],
   "source": [
    "# Plotting loss and accuracy curves\n",
    "def plot_metrics(results_df, metric_name, ylabel, title):\n",
    "    plt.figure(figsize=(10, 6))\n",
    "    for phase in ['train', 'validation']:\n",
    "        phase_data = results_df[results_df['Phase'] == phase]\n",
    "        plt.plot(phase_data['Epoch'], phase_data[metric_name], label=f'{phase.capitalize()} {metric_name}')\n",
    "    plt.xlabel('Epoch')\n",
    "    plt.ylabel(ylabel)\n",
    "    plt.title(title)\n",
    "    plt.legend()\n",
    "    plt.grid(True)\n",
    "    plt.show()"
   ]
  },
  {
   "cell_type": "code",
   "execution_count": 25,
   "id": "parallel-minneapolis",
   "metadata": {},
   "outputs": [],
   "source": [
    "# Read results and plot\n",
    "results_df = pd.read_csv('training_results.csv')"
   ]
  },
  {
   "cell_type": "code",
   "execution_count": 26,
   "id": "expired-boston",
   "metadata": {},
   "outputs": [
    {
     "data": {
      "image/png": "[encoded data removed]",
      "text/plain": [
       "<Figure size 720x432 with 1 Axes>"
      ]
     },
     "metadata": {
      "needs_background": "light"
     },
     "output_type": "display_data"
    }
   ],
   "source": [
    "plot_metrics(results_df, 'Loss', 'Loss', 'Training and Validation Loss')"
   ]
  },
  {
   "cell_type": "code",
   "execution_count": 27,
   "id": "human-favorite",
   "metadata": {},
   "outputs": [
    {
     "data": {
      "image/png": "[encoded data removed]",
      "text/plain": [
       "<Figure size 720x432 with 1 Axes>"
      ]
     },
     "metadata": {
      "needs_background": "light"
     },
     "output_type": "display_data"
    }
   ],
   "source": [
    "plot_metrics(results_df, 'Accuracy', 'Accuracy', 'Training and Validation Accuracy')"
   ]
  },
  {
   "cell_type": "code",
   "execution_count": 28,
   "id": "handmade-census",
   "metadata": {},
   "outputs": [
    {
     "data": {
      "image/png": "[encoded data removed]",
      "text/plain": [
       "<Figure size 720x432 with 1 Axes>"
      ]
     },
     "metadata": {
      "needs_background": "light"
     },
     "output_type": "display_data"
    }
   ],
   "source": [
    "plot_metrics(results_df, 'Precision', 'Precision', 'Training and Validation Precision')"
   ]
  },
  {
   "cell_type": "code",
   "execution_count": 29,
   "id": "determined-sponsorship",
   "metadata": {},
   "outputs": [
    {
     "data": {
      "image/png": "[encoded data removed]",
      "text/plain": [
       "<Figure size 720x432 with 1 Axes>"
      ]
     },
     "metadata": {
      "needs_background": "light"
     },
     "output_type": "display_data"
    }
   ],
   "source": [
    "plot_metrics(results_df, 'Recall', 'Recall', 'Training and Validation Recall')"
   ]
  },
  {
   "cell_type": "code",
   "execution_count": 30,
   "id": "nuclear-disposal",
   "metadata": {},
   "outputs": [
    {
     "data": {
      "image/png": "[encoded data removed]",
      "text/plain": [
       "<Figure size 720x432 with 1 Axes>"
      ]
     },
     "metadata": {
      "needs_background": "light"
     },
     "output_type": "display_data"
    }
   ],
   "source": [
    "plot_metrics(results_df, 'F1 Score', 'F1 Score', 'Training and Validation F1 Score')"
   ]
  },
  {
   "cell_type": "code",
   "execution_count": 31,
   "id": "electronic-surgeon",
   "metadata": {},
   "outputs": [
    {
     "data": {
      "image/png": "[encoded data removed]",
      "text/plain": [
       "<Figure size 720x432 with 1 Axes>"
      ]
     },
     "metadata": {
      "needs_background": "light"
     },
     "output_type": "display_data"
    }
   ],
   "source": [
    "plot_metrics(results_df, 'Energy Consumed (mJ)', 'Energy Consumed (mJ)', 'Training and Validation Energy Consumed')  # <--- Añadir esta línea"
   ]
  },
  {
   "cell_type": "markdown",
   "id": "blond-anaheim",
   "metadata": {},
   "source": [
    "## Evaluating on test data\n"
   ]
  },
  {
   "cell_type": "code",
   "execution_count": 38,
   "id": "acceptable-version",
   "metadata": {},
   "outputs": [],
   "source": [
    "model_ft.eval()\n",
    "test_labels = []\n",
    "test_preds = []"
   ]
  },
  {
   "cell_type": "code",
   "execution_count": 39,
   "id": "contained-recycling",
   "metadata": {},
   "outputs": [],
   "source": [
    "with torch.no_grad():\n",
    "    for inputs, labels in dataloaders['test']:\n",
    "        inputs = inputs.to(device)\n",
    "        labels = labels.to(device)\n",
    "        outputs = model_ft(inputs)\n",
    "        _, preds = torch.max(outputs, 1)\n",
    "        test_labels.extend(labels.cpu().numpy())\n",
    "        test_preds.extend(preds.cpu().numpy())"
   ]
  },
  {
   "cell_type": "code",
   "execution_count": 40,
   "id": "charming-person",
   "metadata": {},
   "outputs": [],
   "source": [
    "test_precision, test_recall, test_f1, _ = precision_recall_fscore_support(test_labels, test_preds, average='weighted')\n",
    "test_cm = confusion_matrix(test_labels, test_preds)\n",
    "test_acc = accuracy_score(test_labels, test_preds)"
   ]
  },
  {
   "cell_type": "code",
   "execution_count": 41,
   "id": "stretch-mustang",
   "metadata": {},
   "outputs": [
    {
     "name": "stdout",
     "output_type": "stream",
     "text": [
      "Test Accuracy: 0.7684 Precision: 0.7804 Recall: 0.7684 F1: 0.7698\n",
      "Test Confusion Matrix:\n",
      "[[945  79 121  29]\n",
      " [ 17 413  16  18]\n",
      " [203 115 809  73]\n",
      " [ 53  72 141 942]]\n"
     ]
    }
   ],
   "source": [
    "print(f'Test Accuracy: {test_acc:.4f} Precision: {test_precision:.4f} Recall: {test_recall:.4f} F1: {test_f1:.4f}')\n",
    "print(f'Test Confusion Matrix:\\n{test_cm}')"
   ]
  },
  {
   "cell_type": "code",
   "execution_count": 42,
   "id": "human-robert",
   "metadata": {},
   "outputs": [
    {
     "name": "stdout",
     "output_type": "stream",
     "text": [
      "Test Accuracy: 0.7684 Precision: 0.7804 Recall: 0.7684 F1: 0.7698\n",
      "Test Confusion Matrix:\n",
      "[[945  79 121  29]\n",
      " [ 17 413  16  18]\n",
      " [203 115 809  73]\n",
      " [ 53  72 141 942]]\n"
     ]
    }
   ],
   "source": [
    "print(f'Test Accuracy: {test_acc:.4f} Precision: {test_precision:.4f} Recall: {test_recall:.4f} F1: {test_f1:.4f}')\n",
    "print(f'Test Confusion Matrix:\\n{test_cm}')"
   ]
  },
  {
   "cell_type": "code",
   "execution_count": 43,
   "id": "straight-cornwall",
   "metadata": {},
   "outputs": [
    {
     "data": {
      "image/png": "[encoded data removed]",
      "text/plain": [
       "<Figure size 432x288 with 2 Axes>"
      ]
     },
     "metadata": {
      "needs_background": "light"
     },
     "output_type": "display_data"
    }
   ],
   "source": [
    "# Plotting the confusion matrix for test data\n",
    "disp = ConfusionMatrixDisplay(confusion_matrix=test_cm, display_labels=class_names)\n",
    "disp.plot(cmap=plt.cm.Blues)\n",
    "plt.title('Test Confusion Matrix')\n",
    "plt.show()"
   ]
  },
  {
   "cell_type": "code",
   "execution_count": 44,
   "id": "starting-syndicate",
   "metadata": {},
   "outputs": [
    {
     "data": {
      "text/html": [
       "<div>\n",
       "<style scoped>\n",
       "    .dataframe tbody tr th:only-of-type {\n",
       "        vertical-align: middle;\n",
       "    }\n",
       "\n",
       "    .dataframe tbody tr th {\n",
       "        vertical-align: top;\n",
       "    }\n",
       "\n",
       "    .dataframe thead th {\n",
       "        text-align: right;\n",
       "    }\n",
       "</style>\n",
       "<table border=\"1\" class=\"dataframe\">\n",
       "  <thead>\n",
       "    <tr style=\"text-align: right;\">\n",
       "      <th></th>\n",
       "      <th>Epoch</th>\n",
       "      <th>Phase</th>\n",
       "      <th>Loss</th>\n",
       "      <th>Accuracy</th>\n",
       "      <th>Precision</th>\n",
       "      <th>Recall</th>\n",
       "      <th>F1 Score</th>\n",
       "      <th>Energy Consumed (mJ)</th>\n",
       "      <th>CO2 Emissions (kg)</th>\n",
       "    </tr>\n",
       "  </thead>\n",
       "  <tbody>\n",
       "    <tr>\n",
       "      <th>0</th>\n",
       "      <td>0</td>\n",
       "      <td>train</td>\n",
       "      <td>1.115359</td>\n",
       "      <td>tensor(0.4898, device='cuda:0', dtype=torch.fl...</td>\n",
       "      <td>0.506648</td>\n",
       "      <td>0.489825</td>\n",
       "      <td>0.493829</td>\n",
       "      <td>14067901</td>\n",
       "      <td>0.001086</td>\n",
       "    </tr>\n",
       "    <tr>\n",
       "      <th>1</th>\n",
       "      <td>0</td>\n",
       "      <td>validation</td>\n",
       "      <td>0.896492</td>\n",
       "      <td>tensor(0.5697, device='cuda:0', dtype=torch.fl...</td>\n",
       "      <td>0.657561</td>\n",
       "      <td>0.569698</td>\n",
       "      <td>0.560698</td>\n",
       "      <td>467497</td>\n",
       "      <td>0.001086</td>\n",
       "    </tr>\n",
       "    <tr>\n",
       "      <th>2</th>\n",
       "      <td>1</td>\n",
       "      <td>train</td>\n",
       "      <td>0.881901</td>\n",
       "      <td>tensor(0.6219, device='cuda:0', dtype=torch.fl...</td>\n",
       "      <td>0.637828</td>\n",
       "      <td>0.621900</td>\n",
       "      <td>0.624787</td>\n",
       "      <td>14301127</td>\n",
       "      <td>0.001086</td>\n",
       "    </tr>\n",
       "    <tr>\n",
       "      <th>3</th>\n",
       "      <td>1</td>\n",
       "      <td>validation</td>\n",
       "      <td>0.732502</td>\n",
       "      <td>tensor(0.6822, device='cuda:0', dtype=torch.fl...</td>\n",
       "      <td>0.720787</td>\n",
       "      <td>0.682155</td>\n",
       "      <td>0.686851</td>\n",
       "      <td>576804</td>\n",
       "      <td>0.001086</td>\n",
       "    </tr>\n",
       "    <tr>\n",
       "      <th>4</th>\n",
       "      <td>2</td>\n",
       "      <td>train</td>\n",
       "      <td>0.808820</td>\n",
       "      <td>tensor(0.6539, device='cuda:0', dtype=torch.fl...</td>\n",
       "      <td>0.667977</td>\n",
       "      <td>0.653868</td>\n",
       "      <td>0.656102</td>\n",
       "      <td>14514582</td>\n",
       "      <td>0.001086</td>\n",
       "    </tr>\n",
       "    <tr>\n",
       "      <th>5</th>\n",
       "      <td>2</td>\n",
       "      <td>validation</td>\n",
       "      <td>0.749248</td>\n",
       "      <td>tensor(0.6935, device='cuda:0', dtype=torch.fl...</td>\n",
       "      <td>0.723067</td>\n",
       "      <td>0.693524</td>\n",
       "      <td>0.695690</td>\n",
       "      <td>571462</td>\n",
       "      <td>0.001086</td>\n",
       "    </tr>\n",
       "    <tr>\n",
       "      <th>6</th>\n",
       "      <td>3</td>\n",
       "      <td>train</td>\n",
       "      <td>0.755015</td>\n",
       "      <td>tensor(0.6811, device='cuda:0', dtype=torch.fl...</td>\n",
       "      <td>0.695380</td>\n",
       "      <td>0.681058</td>\n",
       "      <td>0.683703</td>\n",
       "      <td>14536351</td>\n",
       "      <td>0.001086</td>\n",
       "    </tr>\n",
       "    <tr>\n",
       "      <th>7</th>\n",
       "      <td>3</td>\n",
       "      <td>validation</td>\n",
       "      <td>0.660430</td>\n",
       "      <td>tensor(0.7341, device='cuda:0', dtype=torch.fl...</td>\n",
       "      <td>0.747847</td>\n",
       "      <td>0.734058</td>\n",
       "      <td>0.737036</td>\n",
       "      <td>560340</td>\n",
       "      <td>0.001086</td>\n",
       "    </tr>\n",
       "    <tr>\n",
       "      <th>8</th>\n",
       "      <td>4</td>\n",
       "      <td>train</td>\n",
       "      <td>0.722347</td>\n",
       "      <td>tensor(0.6946, device='cuda:0', dtype=torch.fl...</td>\n",
       "      <td>0.707326</td>\n",
       "      <td>0.694570</td>\n",
       "      <td>0.696725</td>\n",
       "      <td>14609511</td>\n",
       "      <td>0.001086</td>\n",
       "    </tr>\n",
       "    <tr>\n",
       "      <th>9</th>\n",
       "      <td>4</td>\n",
       "      <td>validation</td>\n",
       "      <td>0.673154</td>\n",
       "      <td>tensor(0.7360, device='cuda:0', dtype=torch.fl...</td>\n",
       "      <td>0.753553</td>\n",
       "      <td>0.736036</td>\n",
       "      <td>0.730308</td>\n",
       "      <td>572405</td>\n",
       "      <td>0.001086</td>\n",
       "    </tr>\n",
       "    <tr>\n",
       "      <th>10</th>\n",
       "      <td>5</td>\n",
       "      <td>train</td>\n",
       "      <td>0.689264</td>\n",
       "      <td>tensor(0.7121, device='cuda:0', dtype=torch.fl...</td>\n",
       "      <td>0.722447</td>\n",
       "      <td>0.712120</td>\n",
       "      <td>0.713373</td>\n",
       "      <td>14612281</td>\n",
       "      <td>0.001086</td>\n",
       "    </tr>\n",
       "    <tr>\n",
       "      <th>11</th>\n",
       "      <td>5</td>\n",
       "      <td>validation</td>\n",
       "      <td>0.654738</td>\n",
       "      <td>tensor(0.7444, device='cuda:0', dtype=torch.fl...</td>\n",
       "      <td>0.752816</td>\n",
       "      <td>0.744439</td>\n",
       "      <td>0.743658</td>\n",
       "      <td>601526</td>\n",
       "      <td>0.001086</td>\n",
       "    </tr>\n",
       "    <tr>\n",
       "      <th>12</th>\n",
       "      <td>6</td>\n",
       "      <td>train</td>\n",
       "      <td>0.659480</td>\n",
       "      <td>tensor(0.7239, device='cuda:0', dtype=torch.fl...</td>\n",
       "      <td>0.733635</td>\n",
       "      <td>0.723902</td>\n",
       "      <td>0.725357</td>\n",
       "      <td>14656143</td>\n",
       "      <td>0.001086</td>\n",
       "    </tr>\n",
       "    <tr>\n",
       "      <th>13</th>\n",
       "      <td>6</td>\n",
       "      <td>validation</td>\n",
       "      <td>0.627049</td>\n",
       "      <td>tensor(0.7304, device='cuda:0', dtype=torch.fl...</td>\n",
       "      <td>0.751419</td>\n",
       "      <td>0.730351</td>\n",
       "      <td>0.733458</td>\n",
       "      <td>624841</td>\n",
       "      <td>0.001086</td>\n",
       "    </tr>\n",
       "    <tr>\n",
       "      <th>14</th>\n",
       "      <td>7</td>\n",
       "      <td>train</td>\n",
       "      <td>0.649585</td>\n",
       "      <td>tensor(0.7274, device='cuda:0', dtype=torch.fl...</td>\n",
       "      <td>0.737571</td>\n",
       "      <td>0.727445</td>\n",
       "      <td>0.728961</td>\n",
       "      <td>14685675</td>\n",
       "      <td>0.001086</td>\n",
       "    </tr>\n",
       "    <tr>\n",
       "      <th>15</th>\n",
       "      <td>7</td>\n",
       "      <td>validation</td>\n",
       "      <td>0.588885</td>\n",
       "      <td>tensor(0.7546, device='cuda:0', dtype=torch.fl...</td>\n",
       "      <td>0.768584</td>\n",
       "      <td>0.754572</td>\n",
       "      <td>0.756594</td>\n",
       "      <td>570573</td>\n",
       "      <td>0.001086</td>\n",
       "    </tr>\n",
       "    <tr>\n",
       "      <th>16</th>\n",
       "      <td>8</td>\n",
       "      <td>train</td>\n",
       "      <td>0.647775</td>\n",
       "      <td>tensor(0.7265, device='cuda:0', dtype=torch.fl...</td>\n",
       "      <td>0.738065</td>\n",
       "      <td>0.726539</td>\n",
       "      <td>0.728881</td>\n",
       "      <td>14675592</td>\n",
       "      <td>0.001086</td>\n",
       "    </tr>\n",
       "    <tr>\n",
       "      <th>17</th>\n",
       "      <td>8</td>\n",
       "      <td>validation</td>\n",
       "      <td>0.584965</td>\n",
       "      <td>tensor(0.7687, device='cuda:0', dtype=torch.fl...</td>\n",
       "      <td>0.777053</td>\n",
       "      <td>0.768660</td>\n",
       "      <td>0.770072</td>\n",
       "      <td>591291</td>\n",
       "      <td>0.001086</td>\n",
       "    </tr>\n",
       "    <tr>\n",
       "      <th>18</th>\n",
       "      <td>9</td>\n",
       "      <td>train</td>\n",
       "      <td>0.614426</td>\n",
       "      <td>tensor(0.7458, device='cuda:0', dtype=torch.fl...</td>\n",
       "      <td>0.756027</td>\n",
       "      <td>0.745819</td>\n",
       "      <td>0.747452</td>\n",
       "      <td>14703138</td>\n",
       "      <td>0.001086</td>\n",
       "    </tr>\n",
       "    <tr>\n",
       "      <th>19</th>\n",
       "      <td>9</td>\n",
       "      <td>validation</td>\n",
       "      <td>0.585449</td>\n",
       "      <td>tensor(0.7711, device='cuda:0', dtype=torch.fl...</td>\n",
       "      <td>0.779459</td>\n",
       "      <td>0.771132</td>\n",
       "      <td>0.773028</td>\n",
       "      <td>561851</td>\n",
       "      <td>0.001086</td>\n",
       "    </tr>\n",
       "    <tr>\n",
       "      <th>20</th>\n",
       "      <td>10</td>\n",
       "      <td>train</td>\n",
       "      <td>0.613594</td>\n",
       "      <td>tensor(0.7395, device='cuda:0', dtype=torch.fl...</td>\n",
       "      <td>0.749870</td>\n",
       "      <td>0.739474</td>\n",
       "      <td>0.741095</td>\n",
       "      <td>14681265</td>\n",
       "      <td>0.001086</td>\n",
       "    </tr>\n",
       "    <tr>\n",
       "      <th>21</th>\n",
       "      <td>10</td>\n",
       "      <td>validation</td>\n",
       "      <td>0.579475</td>\n",
       "      <td>tensor(0.7684, device='cuda:0', dtype=torch.fl...</td>\n",
       "      <td>0.780754</td>\n",
       "      <td>0.768413</td>\n",
       "      <td>0.770895</td>\n",
       "      <td>617405</td>\n",
       "      <td>0.001086</td>\n",
       "    </tr>\n",
       "    <tr>\n",
       "      <th>22</th>\n",
       "      <td>11</td>\n",
       "      <td>train</td>\n",
       "      <td>0.616871</td>\n",
       "      <td>tensor(0.7392, device='cuda:0', dtype=torch.fl...</td>\n",
       "      <td>0.748900</td>\n",
       "      <td>0.739227</td>\n",
       "      <td>0.740736</td>\n",
       "      <td>14711586</td>\n",
       "      <td>0.001086</td>\n",
       "    </tr>\n",
       "    <tr>\n",
       "      <th>23</th>\n",
       "      <td>11</td>\n",
       "      <td>validation</td>\n",
       "      <td>0.591090</td>\n",
       "      <td>tensor(0.7664, device='cuda:0', dtype=torch.fl...</td>\n",
       "      <td>0.774962</td>\n",
       "      <td>0.766436</td>\n",
       "      <td>0.767938</td>\n",
       "      <td>578447</td>\n",
       "      <td>0.001086</td>\n",
       "    </tr>\n",
       "    <tr>\n",
       "      <th>24</th>\n",
       "      <td>12</td>\n",
       "      <td>train</td>\n",
       "      <td>0.621403</td>\n",
       "      <td>tensor(0.7430, device='cuda:0', dtype=torch.fl...</td>\n",
       "      <td>0.753809</td>\n",
       "      <td>0.743017</td>\n",
       "      <td>0.745173</td>\n",
       "      <td>14692865</td>\n",
       "      <td>0.001086</td>\n",
       "    </tr>\n",
       "    <tr>\n",
       "      <th>25</th>\n",
       "      <td>12</td>\n",
       "      <td>validation</td>\n",
       "      <td>0.578435</td>\n",
       "      <td>tensor(0.7662, device='cuda:0', dtype=torch.fl...</td>\n",
       "      <td>0.779211</td>\n",
       "      <td>0.766189</td>\n",
       "      <td>0.769106</td>\n",
       "      <td>517426</td>\n",
       "      <td>0.001086</td>\n",
       "    </tr>\n",
       "    <tr>\n",
       "      <th>26</th>\n",
       "      <td>13</td>\n",
       "      <td>train</td>\n",
       "      <td>0.628890</td>\n",
       "      <td>tensor(0.7370, device='cuda:0', dtype=torch.fl...</td>\n",
       "      <td>0.747768</td>\n",
       "      <td>0.737003</td>\n",
       "      <td>0.738873</td>\n",
       "      <td>14714347</td>\n",
       "      <td>0.001086</td>\n",
       "    </tr>\n",
       "    <tr>\n",
       "      <th>27</th>\n",
       "      <td>13</td>\n",
       "      <td>validation</td>\n",
       "      <td>0.580527</td>\n",
       "      <td>tensor(0.7654, device='cuda:0', dtype=torch.fl...</td>\n",
       "      <td>0.776474</td>\n",
       "      <td>0.765447</td>\n",
       "      <td>0.768269</td>\n",
       "      <td>561698</td>\n",
       "      <td>0.001086</td>\n",
       "    </tr>\n",
       "    <tr>\n",
       "      <th>28</th>\n",
       "      <td>14</td>\n",
       "      <td>train</td>\n",
       "      <td>0.644195</td>\n",
       "      <td>tensor(0.7293, device='cuda:0', dtype=torch.fl...</td>\n",
       "      <td>0.740506</td>\n",
       "      <td>0.729340</td>\n",
       "      <td>0.731466</td>\n",
       "      <td>14698902</td>\n",
       "      <td>0.001086</td>\n",
       "    </tr>\n",
       "    <tr>\n",
       "      <th>29</th>\n",
       "      <td>14</td>\n",
       "      <td>validation</td>\n",
       "      <td>0.603711</td>\n",
       "      <td>tensor(0.7477, device='cuda:0', dtype=torch.fl...</td>\n",
       "      <td>0.768389</td>\n",
       "      <td>0.747652</td>\n",
       "      <td>0.751801</td>\n",
       "      <td>581899</td>\n",
       "      <td>0.001086</td>\n",
       "    </tr>\n",
       "    <tr>\n",
       "      <th>30</th>\n",
       "      <td>15</td>\n",
       "      <td>train</td>\n",
       "      <td>0.645171</td>\n",
       "      <td>tensor(0.7274, device='cuda:0', dtype=torch.fl...</td>\n",
       "      <td>0.737217</td>\n",
       "      <td>0.727445</td>\n",
       "      <td>0.729033</td>\n",
       "      <td>14736024</td>\n",
       "      <td>0.001086</td>\n",
       "    </tr>\n",
       "    <tr>\n",
       "      <th>31</th>\n",
       "      <td>15</td>\n",
       "      <td>validation</td>\n",
       "      <td>0.662418</td>\n",
       "      <td>tensor(0.7308, device='cuda:0', dtype=torch.fl...</td>\n",
       "      <td>0.746221</td>\n",
       "      <td>0.730845</td>\n",
       "      <td>0.730044</td>\n",
       "      <td>593832</td>\n",
       "      <td>0.001086</td>\n",
       "    </tr>\n",
       "    <tr>\n",
       "      <th>32</th>\n",
       "      <td>16</td>\n",
       "      <td>train</td>\n",
       "      <td>0.673150</td>\n",
       "      <td>tensor(0.7190, device='cuda:0', dtype=torch.fl...</td>\n",
       "      <td>0.732059</td>\n",
       "      <td>0.719041</td>\n",
       "      <td>0.721426</td>\n",
       "      <td>14683448</td>\n",
       "      <td>0.001086</td>\n",
       "    </tr>\n",
       "    <tr>\n",
       "      <th>33</th>\n",
       "      <td>16</td>\n",
       "      <td>validation</td>\n",
       "      <td>0.629875</td>\n",
       "      <td>tensor(0.7561, device='cuda:0', dtype=torch.fl...</td>\n",
       "      <td>0.774077</td>\n",
       "      <td>0.756055</td>\n",
       "      <td>0.760723</td>\n",
       "      <td>634560</td>\n",
       "      <td>0.001086</td>\n",
       "    </tr>\n",
       "    <tr>\n",
       "      <th>34</th>\n",
       "      <td>17</td>\n",
       "      <td>train</td>\n",
       "      <td>0.684369</td>\n",
       "      <td>tensor(0.7162, device='cuda:0', dtype=torch.fl...</td>\n",
       "      <td>0.728121</td>\n",
       "      <td>0.716157</td>\n",
       "      <td>0.718306</td>\n",
       "      <td>14697464</td>\n",
       "      <td>0.001086</td>\n",
       "    </tr>\n",
       "    <tr>\n",
       "      <th>35</th>\n",
       "      <td>17</td>\n",
       "      <td>validation</td>\n",
       "      <td>0.789574</td>\n",
       "      <td>tensor(0.6893, device='cuda:0', dtype=torch.fl...</td>\n",
       "      <td>0.735370</td>\n",
       "      <td>0.689323</td>\n",
       "      <td>0.686104</td>\n",
       "      <td>633501</td>\n",
       "      <td>0.001086</td>\n",
       "    </tr>\n",
       "    <tr>\n",
       "      <th>36</th>\n",
       "      <td>18</td>\n",
       "      <td>train</td>\n",
       "      <td>0.682587</td>\n",
       "      <td>tensor(0.7109, device='cuda:0', dtype=torch.fl...</td>\n",
       "      <td>0.721943</td>\n",
       "      <td>0.710884</td>\n",
       "      <td>0.712744</td>\n",
       "      <td>14673074</td>\n",
       "      <td>0.001086</td>\n",
       "    </tr>\n",
       "    <tr>\n",
       "      <th>37</th>\n",
       "      <td>18</td>\n",
       "      <td>validation</td>\n",
       "      <td>0.641712</td>\n",
       "      <td>tensor(0.7548, device='cuda:0', dtype=torch.fl...</td>\n",
       "      <td>0.765402</td>\n",
       "      <td>0.754820</td>\n",
       "      <td>0.755280</td>\n",
       "      <td>538338</td>\n",
       "      <td>0.001086</td>\n",
       "    </tr>\n",
       "    <tr>\n",
       "      <th>38</th>\n",
       "      <td>19</td>\n",
       "      <td>train</td>\n",
       "      <td>0.682005</td>\n",
       "      <td>tensor(0.7163, device='cuda:0', dtype=torch.fl...</td>\n",
       "      <td>0.728400</td>\n",
       "      <td>0.716322</td>\n",
       "      <td>0.718189</td>\n",
       "      <td>14676376</td>\n",
       "      <td>0.001086</td>\n",
       "    </tr>\n",
       "    <tr>\n",
       "      <th>39</th>\n",
       "      <td>19</td>\n",
       "      <td>validation</td>\n",
       "      <td>0.752238</td>\n",
       "      <td>tensor(0.6861, device='cuda:0', dtype=torch.fl...</td>\n",
       "      <td>0.713533</td>\n",
       "      <td>0.686110</td>\n",
       "      <td>0.684106</td>\n",
       "      <td>598790</td>\n",
       "      <td>0.001086</td>\n",
       "    </tr>\n",
       "  </tbody>\n",
       "</table>\n",
       "</div>"
      ],
      "text/plain": [
       "    Epoch       Phase      Loss  \\\n",
       "0       0       train  1.115359   \n",
       "1       0  validation  0.896492   \n",
       "2       1       train  0.881901   \n",
       "3       1  validation  0.732502   \n",
       "4       2       train  0.808820   \n",
       "5       2  validation  0.749248   \n",
       "6       3       train  0.755015   \n",
       "7       3  validation  0.660430   \n",
       "8       4       train  0.722347   \n",
       "9       4  validation  0.673154   \n",
       "10      5       train  0.689264   \n",
       "11      5  validation  0.654738   \n",
       "12      6       train  0.659480   \n",
       "13      6  validation  0.627049   \n",
       "14      7       train  0.649585   \n",
       "15      7  validation  0.588885   \n",
       "16      8       train  0.647775   \n",
       "17      8  validation  0.584965   \n",
       "18      9       train  0.614426   \n",
       "19      9  validation  0.585449   \n",
       "20     10       train  0.613594   \n",
       "21     10  validation  0.579475   \n",
       "22     11       train  0.616871   \n",
       "23     11  validation  0.591090   \n",
       "24     12       train  0.621403   \n",
       "25     12  validation  0.578435   \n",
       "26     13       train  0.628890   \n",
       "27     13  validation  0.580527   \n",
       "28     14       train  0.644195   \n",
       "29     14  validation  0.603711   \n",
       "30     15       train  0.645171   \n",
       "31     15  validation  0.662418   \n",
       "32     16       train  0.673150   \n",
       "33     16  validation  0.629875   \n",
       "34     17       train  0.684369   \n",
       "35     17  validation  0.789574   \n",
       "36     18       train  0.682587   \n",
       "37     18  validation  0.641712   \n",
       "38     19       train  0.682005   \n",
       "39     19  validation  0.752238   \n",
       "\n",
       "                                             Accuracy  Precision    Recall  \\\n",
       "0   tensor(0.4898, device='cuda:0', dtype=torch.fl...   0.506648  0.489825   \n",
       "1   tensor(0.5697, device='cuda:0', dtype=torch.fl...   0.657561  0.569698   \n",
       "2   tensor(0.6219, device='cuda:0', dtype=torch.fl...   0.637828  0.621900   \n",
       "3   tensor(0.6822, device='cuda:0', dtype=torch.fl...   0.720787  0.682155   \n",
       "4   tensor(0.6539, device='cuda:0', dtype=torch.fl...   0.667977  0.653868   \n",
       "5   tensor(0.6935, device='cuda:0', dtype=torch.fl...   0.723067  0.693524   \n",
       "6   tensor(0.6811, device='cuda:0', dtype=torch.fl...   0.695380  0.681058   \n",
       "7   tensor(0.7341, device='cuda:0', dtype=torch.fl...   0.747847  0.734058   \n",
       "8   tensor(0.6946, device='cuda:0', dtype=torch.fl...   0.707326  0.694570   \n",
       "9   tensor(0.7360, device='cuda:0', dtype=torch.fl...   0.753553  0.736036   \n",
       "10  tensor(0.7121, device='cuda:0', dtype=torch.fl...   0.722447  0.712120   \n",
       "11  tensor(0.7444, device='cuda:0', dtype=torch.fl...   0.752816  0.744439   \n",
       "12  tensor(0.7239, device='cuda:0', dtype=torch.fl...   0.733635  0.723902   \n",
       "13  tensor(0.7304, device='cuda:0', dtype=torch.fl...   0.751419  0.730351   \n",
       "14  tensor(0.7274, device='cuda:0', dtype=torch.fl...   0.737571  0.727445   \n",
       "15  tensor(0.7546, device='cuda:0', dtype=torch.fl...   0.768584  0.754572   \n",
       "16  tensor(0.7265, device='cuda:0', dtype=torch.fl...   0.738065  0.726539   \n",
       "17  tensor(0.7687, device='cuda:0', dtype=torch.fl...   0.777053  0.768660   \n",
       "18  tensor(0.7458, device='cuda:0', dtype=torch.fl...   0.756027  0.745819   \n",
       "19  tensor(0.7711, device='cuda:0', dtype=torch.fl...   0.779459  0.771132   \n",
       "20  tensor(0.7395, device='cuda:0', dtype=torch.fl...   0.749870  0.739474   \n",
       "21  tensor(0.7684, device='cuda:0', dtype=torch.fl...   0.780754  0.768413   \n",
       "22  tensor(0.7392, device='cuda:0', dtype=torch.fl...   0.748900  0.739227   \n",
       "23  tensor(0.7664, device='cuda:0', dtype=torch.fl...   0.774962  0.766436   \n",
       "24  tensor(0.7430, device='cuda:0', dtype=torch.fl...   0.753809  0.743017   \n",
       "25  tensor(0.7662, device='cuda:0', dtype=torch.fl...   0.779211  0.766189   \n",
       "26  tensor(0.7370, device='cuda:0', dtype=torch.fl...   0.747768  0.737003   \n",
       "27  tensor(0.7654, device='cuda:0', dtype=torch.fl...   0.776474  0.765447   \n",
       "28  tensor(0.7293, device='cuda:0', dtype=torch.fl...   0.740506  0.729340   \n",
       "29  tensor(0.7477, device='cuda:0', dtype=torch.fl...   0.768389  0.747652   \n",
       "30  tensor(0.7274, device='cuda:0', dtype=torch.fl...   0.737217  0.727445   \n",
       "31  tensor(0.7308, device='cuda:0', dtype=torch.fl...   0.746221  0.730845   \n",
       "32  tensor(0.7190, device='cuda:0', dtype=torch.fl...   0.732059  0.719041   \n",
       "33  tensor(0.7561, device='cuda:0', dtype=torch.fl...   0.774077  0.756055   \n",
       "34  tensor(0.7162, device='cuda:0', dtype=torch.fl...   0.728121  0.716157   \n",
       "35  tensor(0.6893, device='cuda:0', dtype=torch.fl...   0.735370  0.689323   \n",
       "36  tensor(0.7109, device='cuda:0', dtype=torch.fl...   0.721943  0.710884   \n",
       "37  tensor(0.7548, device='cuda:0', dtype=torch.fl...   0.765402  0.754820   \n",
       "38  tensor(0.7163, device='cuda:0', dtype=torch.fl...   0.728400  0.716322   \n",
       "39  tensor(0.6861, device='cuda:0', dtype=torch.fl...   0.713533  0.686110   \n",
       "\n",
       "    F1 Score  Energy Consumed (mJ)  CO2 Emissions (kg)  \n",
       "0   0.493829              14067901            0.001086  \n",
       "1   0.560698                467497            0.001086  \n",
       "2   0.624787              14301127            0.001086  \n",
       "3   0.686851                576804            0.001086  \n",
       "4   0.656102              14514582            0.001086  \n",
       "5   0.695690                571462            0.001086  \n",
       "6   0.683703              14536351            0.001086  \n",
       "7   0.737036                560340            0.001086  \n",
       "8   0.696725              14609511            0.001086  \n",
       "9   0.730308                572405            0.001086  \n",
       "10  0.713373              14612281            0.001086  \n",
       "11  0.743658                601526            0.001086  \n",
       "12  0.725357              14656143            0.001086  \n",
       "13  0.733458                624841            0.001086  \n",
       "14  0.728961              14685675            0.001086  \n",
       "15  0.756594                570573            0.001086  \n",
       "16  0.728881              14675592            0.001086  \n",
       "17  0.770072                591291            0.001086  \n",
       "18  0.747452              14703138            0.001086  \n",
       "19  0.773028                561851            0.001086  \n",
       "20  0.741095              14681265            0.001086  \n",
       "21  0.770895                617405            0.001086  \n",
       "22  0.740736              14711586            0.001086  \n",
       "23  0.767938                578447            0.001086  \n",
       "24  0.745173              14692865            0.001086  \n",
       "25  0.769106                517426            0.001086  \n",
       "26  0.738873              14714347            0.001086  \n",
       "27  0.768269                561698            0.001086  \n",
       "28  0.731466              14698902            0.001086  \n",
       "29  0.751801                581899            0.001086  \n",
       "30  0.729033              14736024            0.001086  \n",
       "31  0.730044                593832            0.001086  \n",
       "32  0.721426              14683448            0.001086  \n",
       "33  0.760723                634560            0.001086  \n",
       "34  0.718306              14697464            0.001086  \n",
       "35  0.686104                633501            0.001086  \n",
       "36  0.712744              14673074            0.001086  \n",
       "37  0.755280                538338            0.001086  \n",
       "38  0.718189              14676376            0.001086  \n",
       "39  0.684106                598790            0.001086  "
      ]
     },
     "metadata": {},
     "output_type": "display_data"
    }
   ],
   "source": [
    "# Visualizing the results in a table\n",
    "from IPython.display import display\n",
    "results_df['CO2 Emissions (kg)'] = emissions / len(results_df)\n",
    "display(results_df)\n",
    "results_df.to_csv('training_results_resnet101_20.csv', index=False)"
   ]
  },
  {
   "cell_type": "code",
   "execution_count": 37,
   "id": "thorough-causing",
   "metadata": {},
   "outputs": [
    {
     "data": {
      "image/png": "[encoded data removed]",
      "text/plain": [
       "<Figure size 720x432 with 1 Axes>"
      ]
     },
     "metadata": {
      "needs_background": "light"
     },
     "output_type": "display_data"
    }
   ],
   "source": [
    "plot_metrics(results_df, 'Recall', 'Recall', 'Training and Validation Recall')"
   ]
  },
  {
   "cell_type": "code",
   "execution_count": null,
   "id": "difficult-special",
   "metadata": {},
   "outputs": [],
   "source": []
  }
 ],
 "metadata": {
  "kernelspec": {
   "display_name": "Python (pytorch)",
   "language": "python",
   "name": "pytorch"
  },
  "language_info": {
   "codemirror_mode": {
    "name": "ipython",
    "version": 3
   },
   "file_extension": ".py",
   "mimetype": "text/x-python",
   "name": "python",
   "nbconvert_exporter": "python",
   "pygments_lexer": "ipython3",
   "version": "3.8.19"
  }
 },
 "nbformat": 4,
 "nbformat_minor": 5
}
